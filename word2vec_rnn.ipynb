{
  "nbformat": 4,
  "nbformat_minor": 0,
  "metadata": {
    "colab": {
      "name": "word2vec_rnn.ipynb",
      "provenance": []
    },
    "kernelspec": {
      "name": "python3",
      "display_name": "Python 3"
    },
    "language_info": {
      "name": "python"
    },
    "accelerator": "GPU"
  },
  "cells": [
    {
      "cell_type": "code",
      "source": [
        "import pandas as pd\n",
        "import numpy as np\n",
        "import gensim\n",
        "import torch\n",
        "from torch.utils.data import DataLoader\n",
        "from torch import nn, optim\n",
        "import torch.nn.functional as F\n",
        "from torchtext import data\n",
        "from torch.utils.data import TensorDataset"
      ],
      "metadata": {
        "id": "vLuvwRzjKasX"
      },
      "execution_count": 2,
      "outputs": []
    },
    {
      "cell_type": "code",
      "source": [
        "USE_CUDA = torch.cuda.is_available()\n",
        "DEVICE = torch.device(\"cuda\" if USE_CUDA else \"cpu\")"
      ],
      "metadata": {
        "id": "Jdb_zS6RCkQQ"
      },
      "execution_count": 11,
      "outputs": []
    },
    {
      "cell_type": "code",
      "execution_count": 8,
      "metadata": {
        "id": "FNrxAjHdE0Nu"
      },
      "outputs": [],
      "source": [
        "train_df = pd.read_csv(\"/content/drive/MyDrive/CUAI_Winter/train.tsv\", delimiter='\\t')\n",
        "valid_df = pd.read_csv(\"/content/drive/MyDrive/CUAI_Winter/valid.tsv\", delimiter='\\t')"
      ]
    },
    {
      "cell_type": "code",
      "source": [
        "sentences_train = [train_df['sent'][i] for i in range(len(train_df['sent']))]\n",
        "sentences_valid = [valid_df['sent'][i] for i in range(len(valid_df['sent']))]\n",
        "\n",
        "sentences_train_len = [len(train_df['sent'][i]) for i in range(len(train_df['sent']))]\n",
        "sentences_valid_len = [len(valid_df['sent'][i]) for i in range(len(valid_df['sent']))]\n",
        "\n",
        "max_train_sentence_length = max(sentences_train_len)\n",
        "max_valid_sentence_length = max(sentences_valid_len)\n",
        "\n",
        "print(max_train_sentence_length)\n",
        "print(max_valid_sentence_length)"
      ],
      "metadata": {
        "id": "AyfdaF_PKjeA"
      },
      "execution_count": null,
      "outputs": []
    },
    {
      "cell_type": "code",
      "source": [
        "labels_train = train_df['sentiment'].to_list()\n",
        "labels_valid = valid_df['sentiment'].to_list()"
      ],
      "metadata": {
        "id": "anzCkPkYO4k4"
      },
      "execution_count": 10,
      "outputs": []
    },
    {
      "cell_type": "code",
      "source": [
        "def load_word2vec_from_kyubyong():\n",
        "  kyubyong_word2vec = gensim.models.Word2Vec.load(\"/content/drive/MyDrive/CUAI_Winter/ko.bin\")\n",
        "  return kyubyong_word2vec"
      ],
      "metadata": {
        "id": "fMCsM7b7Qp0D"
      },
      "execution_count": 12,
      "outputs": []
    },
    {
      "cell_type": "code",
      "source": [
        "word2vec = load_word2vec_from_kyubyong()"
      ],
      "metadata": {
        "id": "X--G2LZUR_qo"
      },
      "execution_count": 13,
      "outputs": []
    },
    {
      "cell_type": "code",
      "source": [
        "# aihub 감성 말뭉치 데이터로 추가 학습\n",
        "aihub_sentences = sentences_train\n",
        "def train_word2vec_with_aihub(sentences, word2vec):\n",
        "  sentences = sentences + [['']]\n",
        "  word2vec.build_vocab(sentences, update=True)\n",
        "  word2vec.train(sentences, total_examples=word2vec.corpus_count, epochs=word2vec.epochs)\n",
        "  return "
      ],
      "metadata": {
        "id": "dyVgd4Bac4gD"
      },
      "execution_count": 14,
      "outputs": []
    },
    {
      "cell_type": "code",
      "source": [
        "train_word2vec_with_aihub(aihub_sentences, word2vec)"
      ],
      "metadata": {
        "id": "8z8BXKi7iorO"
      },
      "execution_count": 15,
      "outputs": []
    },
    {
      "cell_type": "code",
      "source": [
        "def word_to_index(word):\n",
        "  if word in word2vec:\n",
        "    return word2vec.wv.vocab[word].index\n",
        "  else:\n",
        "    return 0"
      ],
      "metadata": {
        "id": "eaQGkogeXUGp"
      },
      "execution_count": null,
      "outputs": []
    },
    {
      "cell_type": "code",
      "source": [
        "def sentences_to_indicies(sentences):\n",
        "  sentences_of_indicies = []\n",
        "  for sentence in sentences:\n",
        "    indicies = list(map(word_to_index, sentence))\n",
        "    sentences_of_indicies.append(indices)\n",
        "  return sentences_of_indicies"
      ],
      "metadata": {
        "id": "VQK2akntzp6l"
      },
      "execution_count": null,
      "outputs": []
    },
    {
      "cell_type": "code",
      "source": [
        "def pad_sequences(sentences_train):\n",
        "  sentence_indicies = []\n",
        "  for i in range(len(sentences_train)):\n",
        "    number_of_additional_indicies = max_train_sentence_length - len(sentences_train[i])\n",
        "    additional_indicies = number_of_additional_vectors * [0]\n",
        "    sentences_of_indicies.append(sentences_train[i] + additional_indicies))\n",
        "  \n",
        "  return sentences_of_indicies"
      ],
      "metadata": {
        "id": "5i6oqMYX-_as"
      },
      "execution_count": null,
      "outputs": []
    },
    {
      "cell_type": "code",
      "source": [
        "print(sentences_train[0])"
      ],
      "metadata": {
        "colab": {
          "base_uri": "https://localhost:8080/"
        },
        "id": "Yg7tvgvysjOp",
        "outputId": "3cfa0f1b-7a9d-4a86-d59f-7cf5169595b8"
      },
      "execution_count": 23,
      "outputs": [
        {
          "output_type": "stream",
          "name": "stdout",
          "text": [
            "['아내', '출산', '되', '신', '나']\n"
          ]
        }
      ]
    },
    {
      "cell_type": "code",
      "source": [
        "x_train = sentences_of_indicies(sentences_train)\n",
        "x_valid = sentences_of_indicies(sentences_train)"
      ],
      "metadata": {
        "id": "FNUKNIhlq0PU"
      },
      "execution_count": null,
      "outputs": []
    },
    {
      "cell_type": "code",
      "source": [
        "# wordvector => tensor\n",
        "def wordindicies_to_tensor():\n",
        "  return map(torch.tensor, (x_train, labels_train, x_valid, labels_valid))"
      ],
      "metadata": {
        "id": "B4Mtx7ZBr1xs"
      },
      "execution_count": null,
      "outputs": []
    },
    {
      "cell_type": "code",
      "source": [
        "x_train, y_train, x_valid, y_valid = wordindicies_to_tensor()"
      ],
      "metadata": {
        "id": "tW3auPLftmpb"
      },
      "execution_count": null,
      "outputs": []
    },
    {
      "cell_type": "code",
      "source": [
        "train_dataset = TensorDataset(x_train, y_train)\n",
        "valid_dataset = TensorDataset(x_valid, y_valid)"
      ],
      "metadata": {
        "id": "hxCJ183ttYCO"
      },
      "execution_count": null,
      "outputs": []
    },
    {
      "cell_type": "code",
      "source": [
        "# 학습에 필요한 변수들의 정의\n",
        "learning_rate = 0.001 # 학습률 \n",
        "epochs = 10 # 전체 학습 순회 횟수\n",
        "batch_size = 64 # 훈련에 사용할 미니 데이터셋의 크기(데이터의 개수)\n",
        "dropout = 0.2\n",
        "n_classes = len(train_df['sentiment'].unique())\n",
        "loss_func = nn.functional.cross_entropy\n",
        "\n",
        "input_size = 300\n",
        "hidden_size = 128\n",
        "num_layers = 1\n",
        "\n",
        "weights = torch.FloatTensor(word2vec.wv.vectors)"
      ],
      "metadata": {
        "id": "2nI4D07zkZ28"
      },
      "execution_count": null,
      "outputs": []
    },
    {
      "cell_type": "code",
      "source": [
        "# Dataloader \n",
        "train_dataloader = DataLoader(train_dataset, batch_size=batch_size, shuffle=True)\n",
        "valid_dataloader = DataLoader(valid_dataset, batch_size=batch_size * 2, shuffle=False)"
      ],
      "metadata": {
        "id": "ns2cnUZtNwv3"
      },
      "execution_count": null,
      "outputs": []
    },
    {
      "cell_type": "code",
      "source": [
        "# 단순한 시퀀스 모델보다 복잡한 모델을 구성해야 할 때는, nn.Module의 하위 클래스를 선언하고,\n",
        "# 입력 텐서를 받아 다른 모듈 및 autograd 연산을 사용하여 출력 텐서를 만드는 forward method를 정의 합니다.\n",
        "# 입력 텐서(문장)의 길이는 모두 같아야 한다.\n",
        "\n",
        "class Rnn_Sentiment_Classification(nn.Module):\n",
        "  # input_size: wordvector의 크기 200\n",
        "  # hidden_size: hidden cell의 크기 128, 256\n",
        "  def __init__(self, input_size, hidden_size, num_layers, dropout, n_classes):\n",
        "    super(Rnn_Sentiment_Classification, self).__init__()\n",
        "    # 매개변수를 생성하고 멤버 변수로 지정합니다.\n",
        "    self.num_layers = num_layers\n",
        "    self.hidden_size = hidden_size\n",
        "\n",
        "    self.embedding = nn.Embedding.from_pretrained(weight, padding_idx=0)\n",
        "    self.embedding.requires_grad = False\n",
        "    self.dropout = nn.Dropout(dropout)\n",
        "\n",
        "    self.gru = nn.GRU(input_size, hidden_size, num_layers=num_layers, batch_first=True)\n",
        "\n",
        "    self.out = nn.Linear(self.hidden_size, n_classes)\n",
        "\n",
        "  def forward(self, input_tensor):\n",
        "    # 첫번째 히든 스테이트를 0벡터로 초기화\n",
        "    input_tensor = self.embedding(input_tensor)\n",
        "    h_0 = self.initHidden(batch_size=input_tensor.size(0))\n",
        "\n",
        "    # GRU의 리턴값은 (배치 크기, 시퀀스 길이, 은닉 상태의 크기)\n",
        "    x, _ = self.gru(input_tensor, h_0)\n",
        "\n",
        "    # (배치 크기, 은닉 상태의 크기)의 텐서로 크기가 변경됨. 즉, 마지막 time-step의 은닉 상태만 가져온다.\n",
        "    h_t = x[:,-1,:]\n",
        "\n",
        "    self.dropout(h_t)\n",
        "    # (배치 크기, 은닉 상태의 크기) => (배치 크기, 출력층의 크기)\n",
        "    logit = self.out(h_t)\n",
        "\n",
        "    return logit\n",
        "\n",
        "  def initHidden(self, batch_size=1):\n",
        "    weight = next(self.parameters()).data\n",
        "    return weight.new(self.num_layers, batch_size, self.hidden_size).zero_()"
      ],
      "metadata": {
        "id": "RWibr2W_SmFm"
      },
      "execution_count": null,
      "outputs": []
    },
    {
      "cell_type": "code",
      "source": [
        "def get_model():\n",
        "  model = Rnn_Sentiment_Classification(input_size, hidden_size, num_layers, dropout, n_classes).to(DEVICE)\n",
        "  return model, optim.SGD(model.parameters(), lr=learning_rate)\n",
        "\n",
        "def loss_batch(model, loss_func, x_batch, y_batch, opt=None):\n",
        "  loss = loss_func(model(x_batch), y_batch)\n",
        "\n",
        "  if opt is not None:\n",
        "    loss.backward()\n",
        "    opt.step()\n",
        "    opt.zero_grad()\n",
        "\n",
        "  return loss.item(), len(x_batch)\n",
        "\n",
        "def fit(epochs, model, loss_func, opt, train_dataloader, valid_dataloader):\n",
        "  for epoch in range(epochs):\n",
        "    model.train()\n",
        "    for x_batch, y_batch in train_dataloader:\n",
        "      x_batch = wordbatch_to_indexbatch(x_batch)\n",
        "      loss_batch(model, loss_func, x_batch, y_batch, opt)\n",
        "    \n",
        "    model.eval()\n",
        "    with torch.no_grad():\n",
        "      losses, nums = zip(*[loss_batch(model, loss_func, x_batch, y_batch) for x_batch, y_batch in valid_dataloader])\n",
        "      val_loss = np.sum(np.multiply(losses, nums)) / np.sum(nums)\n",
        "\n",
        "    print(epoch, val_loss)\n",
        "\n",
        "def get_data(train_dataset, valid_dataset, batch_size):\n",
        "  return (DataLoader(train_dataset, batch_size=batch_size, shuffle=True), DataLoader(valid_dataset, batch_size=batch_size * 2, shuffle=False))"
      ],
      "metadata": {
        "id": "r2FID6NTyRQ-"
      },
      "execution_count": null,
      "outputs": []
    },
    {
      "cell_type": "code",
      "source": [
        "# 손실 함수를 정의합니다.\n",
        "# optimizer를 정의합니다.\n",
        "\n",
        "def train_rnn_model(batch_size, epochs, model):\n",
        "  # 총 batch_size번의 학습 => 나중에 이 학습을 epochs만큼 반복할 것임.\n",
        "  # 전체 과정은 이렇다.\n",
        "  # 데이터의 미니배치를 선택\n",
        "  # 모델을 이용하여 예측 수행\n",
        "  # 손실 계산\n",
        "  # loss.backward()를 이용하여 모델의 기울기 업데이트 \n",
        "  \n",
        "  # 순전파 단계: 특정 shape의 tensor를 모델에 전달하여 예측값 y를 계산한다.\n",
        "\n",
        "  # 예측값과 실제 값을 손실함수로 전달하여 손실을 계산한다. 손실함수는 손실을 갖는 텐서를 반환한다.\n",
        "\n",
        "  # 역전파 단계를 실행하기 전에 변화도(gradient)를 0으로 초기화한다.\n",
        "\n",
        "  # 역전파 단계: 모델의 학습 가능한 모든 매개변수에 대해 손실의 변화도를 계산한다.\n",
        " \n",
        "  # 경사 하강법을 사용하여 가중치를 갱신한다.\n",
        "  # with torch.no_grad():\n",
        "  #   for param in model.parameters():\n",
        "  #     param -= learning_rate * param.grad\n",
        "  # 위 3 단계를 optimizer를 정의하여 최적화한다.\n",
        "  \n",
        "  # 최종 최적화 프로세스\n",
        "  train_dataloader, valid_dataloader = get_data(train_dataset, valid_dataset)\n",
        "  model, optimizer = get_model()\n",
        "  fit(epochs, model, loss_func, optimizer, train_dataloader, valid_dataloader)\n"
      ],
      "metadata": {
        "id": "llsIowqASCt7"
      },
      "execution_count": null,
      "outputs": []
    }
  ]
}