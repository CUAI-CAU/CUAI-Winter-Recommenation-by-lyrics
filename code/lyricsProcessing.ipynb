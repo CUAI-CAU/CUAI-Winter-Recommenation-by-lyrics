{
  "cells": [
    {
      "cell_type": "code",
      "execution_count": null,
      "id": "74e5274f",
      "metadata": {
        "id": "74e5274f"
      },
      "outputs": [],
      "source": [
        "import torch\n",
        "import torch.nn.functional as F"
      ]
    },
    {
      "cell_type": "code",
      "execution_count": null,
      "id": "4dfa822e",
      "metadata": {
        "id": "4dfa822e"
      },
      "outputs": [],
      "source": [
        "import platform\n",
        "\n",
        "#운영체제에 따라 mecab설치 방법이 다름.\n",
        "if platform.system() == \"Windows\":\n",
        "    try:\n",
        "        from eunjeon import Mecab\n",
        "        \n",
        "    except:\n",
        "        print(\"please install eunjeon module\")\n",
        "else:  # Ubuntu일 경우\n",
        "  try:\n",
        "    from konlpy.tag import Mecab\n",
        "  except:\n",
        "    print(\"please install Mecab\")\n",
        "\n"
      ]
    },
    {
      "cell_type": "code",
      "execution_count": null,
      "id": "1c821b1a",
      "metadata": {
        "id": "1c821b1a"
      },
      "outputs": [],
      "source": [
        "import pandas as pd\n",
        "\n",
        "data = pd.read_csv(r'./lyrics_by_artist_and_age.csv')"
      ]
    },
    {
      "cell_type": "markdown",
      "id": "5d48968c",
      "metadata": {
        "id": "5d48968c"
      },
      "source": [
        "### 1. 노래 가사를 문장 단위로 자르는 기준은?\n",
        "줄넘김마다 끊기에는 너무 짧기도 하고 애매하다\n"
      ]
    },
    {
      "cell_type": "code",
      "execution_count": null,
      "id": "8e9c0082",
      "metadata": {
        "id": "8e9c0082",
        "outputId": "298bf384-8cd9-4196-d51c-5519f1a4f780"
      },
      "outputs": [
        {
          "data": {
            "text/html": [
              "<div>\n",
              "<style scoped>\n",
              "    .dataframe tbody tr th:only-of-type {\n",
              "        vertical-align: middle;\n",
              "    }\n",
              "\n",
              "    .dataframe tbody tr th {\n",
              "        vertical-align: top;\n",
              "    }\n",
              "\n",
              "    .dataframe thead th {\n",
              "        text-align: right;\n",
              "    }\n",
              "</style>\n",
              "<table border=\"1\" class=\"dataframe\">\n",
              "  <thead>\n",
              "    <tr style=\"text-align: right;\">\n",
              "      <th></th>\n",
              "      <th>Unnamed: 0</th>\n",
              "      <th>lyrics</th>\n",
              "      <th>artist</th>\n",
              "      <th>age</th>\n",
              "    </tr>\n",
              "  </thead>\n",
              "  <tbody>\n",
              "    <tr>\n",
              "      <th>0</th>\n",
              "      <td>0</td>\n",
              "      <td>나 아직 꿈을 꾸죠\\n밤하늘 희미한 달빛처럼\\n눈부셨던 기억 속에 그 사람\\n어렴풋...</td>\n",
              "      <td>이선희</td>\n",
              "      <td>80</td>\n",
              "    </tr>\n",
              "    <tr>\n",
              "      <th>1</th>\n",
              "      <td>1</td>\n",
              "      <td>약속해요 이 순간이 다 지나고\\n다시 보게 되는 그날\\n모든 걸 버리고 그대 곁에 ...</td>\n",
              "      <td>이선희</td>\n",
              "      <td>80</td>\n",
              "    </tr>\n",
              "    <tr>\n",
              "      <th>2</th>\n",
              "      <td>2</td>\n",
              "      <td>소슬한 바람이 마음에 불어\\n나비인 듯 날아 마음이 닿는 곳\\n맘 같지 않은 세상\\...</td>\n",
              "      <td>이선희</td>\n",
              "      <td>80</td>\n",
              "    </tr>\n",
              "    <tr>\n",
              "      <th>3</th>\n",
              "      <td>3</td>\n",
              "      <td>그렇게 대단한 운명까진\\n바란적 없다 생각했는데\\n그대 하나 떠나간 내 하룬 이제\\...</td>\n",
              "      <td>이선희</td>\n",
              "      <td>80</td>\n",
              "    </tr>\n",
              "    <tr>\n",
              "      <th>4</th>\n",
              "      <td>4</td>\n",
              "      <td>이렇게 함께하는 편안한\\n서로의 곁 연애할 때처럼 설레요\\n밤이 내린 하늘엔 별이 ...</td>\n",
              "      <td>이선희</td>\n",
              "      <td>80</td>\n",
              "    </tr>\n",
              "  </tbody>\n",
              "</table>\n",
              "</div>"
            ],
            "text/plain": [
              "   Unnamed: 0                                             lyrics artist  age\n",
              "0           0  나 아직 꿈을 꾸죠\\n밤하늘 희미한 달빛처럼\\n눈부셨던 기억 속에 그 사람\\n어렴풋...    이선희   80\n",
              "1           1  약속해요 이 순간이 다 지나고\\n다시 보게 되는 그날\\n모든 걸 버리고 그대 곁에 ...    이선희   80\n",
              "2           2  소슬한 바람이 마음에 불어\\n나비인 듯 날아 마음이 닿는 곳\\n맘 같지 않은 세상\\...    이선희   80\n",
              "3           3  그렇게 대단한 운명까진\\n바란적 없다 생각했는데\\n그대 하나 떠나간 내 하룬 이제\\...    이선희   80\n",
              "4           4  이렇게 함께하는 편안한\\n서로의 곁 연애할 때처럼 설레요\\n밤이 내린 하늘엔 별이 ...    이선희   80"
            ]
          },
          "execution_count": 4,
          "metadata": {},
          "output_type": "execute_result"
        }
      ],
      "source": [
        "data.head()"
      ]
    },
    {
      "cell_type": "code",
      "execution_count": null,
      "id": "50eeab10",
      "metadata": {
        "id": "50eeab10"
      },
      "outputs": [],
      "source": [
        "df = pd.DataFrame(data, columns=['lyrics','artist','age'])"
      ]
    },
    {
      "cell_type": "code",
      "execution_count": null,
      "id": "dfb21745",
      "metadata": {
        "id": "dfb21745",
        "outputId": "30d51398-31bf-4568-a34c-d951fcd32ecf"
      },
      "outputs": [
        {
          "data": {
            "text/html": [
              "<div>\n",
              "<style scoped>\n",
              "    .dataframe tbody tr th:only-of-type {\n",
              "        vertical-align: middle;\n",
              "    }\n",
              "\n",
              "    .dataframe tbody tr th {\n",
              "        vertical-align: top;\n",
              "    }\n",
              "\n",
              "    .dataframe thead th {\n",
              "        text-align: right;\n",
              "    }\n",
              "</style>\n",
              "<table border=\"1\" class=\"dataframe\">\n",
              "  <thead>\n",
              "    <tr style=\"text-align: right;\">\n",
              "      <th></th>\n",
              "      <th>lyrics</th>\n",
              "      <th>artist</th>\n",
              "      <th>age</th>\n",
              "    </tr>\n",
              "  </thead>\n",
              "  <tbody>\n",
              "    <tr>\n",
              "      <th>0</th>\n",
              "      <td>나 아직 꿈을 꾸죠\\n밤하늘 희미한 달빛처럼\\n눈부셨던 기억 속에 그 사람\\n어렴풋...</td>\n",
              "      <td>이선희</td>\n",
              "      <td>80</td>\n",
              "    </tr>\n",
              "    <tr>\n",
              "      <th>1</th>\n",
              "      <td>약속해요 이 순간이 다 지나고\\n다시 보게 되는 그날\\n모든 걸 버리고 그대 곁에 ...</td>\n",
              "      <td>이선희</td>\n",
              "      <td>80</td>\n",
              "    </tr>\n",
              "    <tr>\n",
              "      <th>2</th>\n",
              "      <td>소슬한 바람이 마음에 불어\\n나비인 듯 날아 마음이 닿는 곳\\n맘 같지 않은 세상\\...</td>\n",
              "      <td>이선희</td>\n",
              "      <td>80</td>\n",
              "    </tr>\n",
              "    <tr>\n",
              "      <th>3</th>\n",
              "      <td>그렇게 대단한 운명까진\\n바란적 없다 생각했는데\\n그대 하나 떠나간 내 하룬 이제\\...</td>\n",
              "      <td>이선희</td>\n",
              "      <td>80</td>\n",
              "    </tr>\n",
              "    <tr>\n",
              "      <th>4</th>\n",
              "      <td>이렇게 함께하는 편안한\\n서로의 곁 연애할 때처럼 설레요\\n밤이 내린 하늘엔 별이 ...</td>\n",
              "      <td>이선희</td>\n",
              "      <td>80</td>\n",
              "    </tr>\n",
              "  </tbody>\n",
              "</table>\n",
              "</div>"
            ],
            "text/plain": [
              "                                              lyrics artist  age\n",
              "0  나 아직 꿈을 꾸죠\\n밤하늘 희미한 달빛처럼\\n눈부셨던 기억 속에 그 사람\\n어렴풋...    이선희   80\n",
              "1  약속해요 이 순간이 다 지나고\\n다시 보게 되는 그날\\n모든 걸 버리고 그대 곁에 ...    이선희   80\n",
              "2  소슬한 바람이 마음에 불어\\n나비인 듯 날아 마음이 닿는 곳\\n맘 같지 않은 세상\\...    이선희   80\n",
              "3  그렇게 대단한 운명까진\\n바란적 없다 생각했는데\\n그대 하나 떠나간 내 하룬 이제\\...    이선희   80\n",
              "4  이렇게 함께하는 편안한\\n서로의 곁 연애할 때처럼 설레요\\n밤이 내린 하늘엔 별이 ...    이선희   80"
            ]
          },
          "execution_count": 6,
          "metadata": {},
          "output_type": "execute_result"
        }
      ],
      "source": [
        "df.head()"
      ]
    },
    {
      "cell_type": "code",
      "execution_count": null,
      "id": "84936c47",
      "metadata": {
        "id": "84936c47"
      },
      "outputs": [],
      "source": [
        "df_sentiment_train = pd.read_excel('./sentiment/Training/train.xlsx',engine='openpyxl')\n",
        "df_sentiment_valid = pd.read_excel('./sentiment/Validation/valid.xlsx',engine='openpyxl')"
      ]
    },
    {
      "cell_type": "code",
      "execution_count": null,
      "id": "fcae01dc",
      "metadata": {
        "id": "fcae01dc",
        "outputId": "e9a33d01-ed8f-4fc6-c51f-5233dc608822"
      },
      "outputs": [
        {
          "data": {
            "text/html": [
              "<div>\n",
              "<style scoped>\n",
              "    .dataframe tbody tr th:only-of-type {\n",
              "        vertical-align: middle;\n",
              "    }\n",
              "\n",
              "    .dataframe tbody tr th {\n",
              "        vertical-align: top;\n",
              "    }\n",
              "\n",
              "    .dataframe thead th {\n",
              "        text-align: right;\n",
              "    }\n",
              "</style>\n",
              "<table border=\"1\" class=\"dataframe\">\n",
              "  <thead>\n",
              "    <tr style=\"text-align: right;\">\n",
              "      <th></th>\n",
              "      <th>번호</th>\n",
              "      <th>연령</th>\n",
              "      <th>성별</th>\n",
              "      <th>상황키워드</th>\n",
              "      <th>신체질환</th>\n",
              "      <th>감정_대분류</th>\n",
              "      <th>감정_소분류</th>\n",
              "      <th>사람문장1</th>\n",
              "      <th>시스템응답1</th>\n",
              "      <th>사람문장2</th>\n",
              "      <th>시스템응답2</th>\n",
              "      <th>사람문장3</th>\n",
              "      <th>시스템응답3</th>\n",
              "      <th>사람문장4</th>\n",
              "      <th>시스템응답4</th>\n",
              "    </tr>\n",
              "  </thead>\n",
              "  <tbody>\n",
              "    <tr>\n",
              "      <th>0</th>\n",
              "      <td>44164</td>\n",
              "      <td>청년</td>\n",
              "      <td>남성</td>\n",
              "      <td>연애, 결혼, 출산</td>\n",
              "      <td>해당없음</td>\n",
              "      <td>기쁨</td>\n",
              "      <td>신이 난</td>\n",
              "      <td>아내가 드디어 출산하게 되어서 정말 신이 나.</td>\n",
              "      <td>아내분이 출산을 하시는군요. 정말 축하드려요.</td>\n",
              "      <td>아 지금 정말 신이 나.</td>\n",
              "      <td>잘 된 일이네요.</td>\n",
              "      <td>아기가 점점 클게 벌써 기대가 되네. 내가 많이 놀아줘야지.</td>\n",
              "      <td>좋은 아빠가 되실 거 같아요. 진심으로 축하드려요.</td>\n",
              "      <td>NaN</td>\n",
              "      <td>NaN</td>\n",
              "    </tr>\n",
              "    <tr>\n",
              "      <th>1</th>\n",
              "      <td>3926</td>\n",
              "      <td>노년</td>\n",
              "      <td>남성</td>\n",
              "      <td>건강, 죽음</td>\n",
              "      <td>만성질환 유</td>\n",
              "      <td>불안</td>\n",
              "      <td>스트레스 받는</td>\n",
              "      <td>당뇨랑 합병증 때문에 먹어야 할 약이 열 가지가 넘어가니까 스트레스야.</td>\n",
              "      <td>약 종류가 많아 번거로우시겠어요.</td>\n",
              "      <td>건강할 때 관리 좀 잘할걸 하는 생각이 들더라고.</td>\n",
              "      <td>현재 상황에서 변화를 주기 위해 어떻게 하면 될까요?</td>\n",
              "      <td>약을 잘 챙겨 먹고 나을 수 있도록 노력해야지.</td>\n",
              "      <td>약을 잘 챙겨 먹어 건강해지시길 바랄게요.</td>\n",
              "      <td>NaN</td>\n",
              "      <td>NaN</td>\n",
              "    </tr>\n",
              "    <tr>\n",
              "      <th>2</th>\n",
              "      <td>50882</td>\n",
              "      <td>청소년</td>\n",
              "      <td>여성</td>\n",
              "      <td>학업 및 진로</td>\n",
              "      <td>해당없음</td>\n",
              "      <td>당황</td>\n",
              "      <td>당황</td>\n",
              "      <td>고등학교에 올라오니 중학교 때보다 수업이 갑자기 어려워져서 당황스러워.</td>\n",
              "      <td>고등학교 수업이 중학교 때와는 다르게 갑자기 어려워서 당황스러우시군요.</td>\n",
              "      <td>아직 학기 초인데 내가 수업에 잘 따라갈 수 있을지 걱정돼.</td>\n",
              "      <td>이 상황에서 할 수 있는 게 어떤 것이 있을까요?</td>\n",
              "      <td>중학교 수업을 들을 때보다 훨씬 더 열심히 할 거야.</td>\n",
              "      <td>수업을 어떤 방식으로 열심히 듣는게 좋을까요?</td>\n",
              "      <td>선생님이 강조하신 부분을 필기하고 집에서 매일 수업 내용을 복습하려고 해.</td>\n",
              "      <td>열심히 해서 좋은 결과가 있었으면 좋겠어요.</td>\n",
              "    </tr>\n",
              "    <tr>\n",
              "      <th>3</th>\n",
              "      <td>31303</td>\n",
              "      <td>노년</td>\n",
              "      <td>남성</td>\n",
              "      <td>재정</td>\n",
              "      <td>만성질환 무</td>\n",
              "      <td>기쁨</td>\n",
              "      <td>신이 난</td>\n",
              "      <td>재취업이 돼서 받게 된 첫 월급으로 온 가족이 외식을 할 예정이야. 너무 행복해.</td>\n",
              "      <td>재취업 후 첫 월급이라 정말 기쁘시겠어요.</td>\n",
              "      <td>퇴직 후 다시는 돈을 못 벌 줄 알았는데 이렇게 월급으로 가족에게 맛있는 밥을 살 ...</td>\n",
              "      <td>이 기분을 유지하려면 어떻게 해야 할까요?</td>\n",
              "      <td>회사생활을 열심히 해서 계속 월급을 받을거야!</td>\n",
              "      <td>계속 원하시는 대로 회사생활이 이어지길 바랄게요.</td>\n",
              "      <td>NaN</td>\n",
              "      <td>NaN</td>\n",
              "    </tr>\n",
              "    <tr>\n",
              "      <th>4</th>\n",
              "      <td>47200</td>\n",
              "      <td>노년</td>\n",
              "      <td>여성</td>\n",
              "      <td>재정</td>\n",
              "      <td>만성질환 유</td>\n",
              "      <td>기쁨</td>\n",
              "      <td>안도</td>\n",
              "      <td>빚을 드디어 다 갚게 되어서 이제야 안도감이 들어.</td>\n",
              "      <td>기분 좋으시겠어요. 앞으로는 어떻게 하실 생각이신가요?</td>\n",
              "      <td>빚도 다 갚았으니 당분간은 아무 생각도 안 하며 살고 싶어.</td>\n",
              "      <td>빚도 다 갚았으니 당분간은 아무 생각도 안 하며 살고 싶으시군요.</td>\n",
              "      <td>NaN</td>\n",
              "      <td>NaN</td>\n",
              "      <td>NaN</td>\n",
              "      <td>NaN</td>\n",
              "    </tr>\n",
              "  </tbody>\n",
              "</table>\n",
              "</div>"
            ],
            "text/plain": [
              "      번호   연령  성별       상황키워드    신체질환 감정_대분류   감정_소분류  \\\n",
              "0  44164   청년  남성  연애, 결혼, 출산    해당없음     기쁨     신이 난   \n",
              "1   3926   노년  남성      건강, 죽음  만성질환 유     불안  스트레스 받는   \n",
              "2  50882  청소년  여성     학업 및 진로    해당없음     당황       당황   \n",
              "3  31303   노년  남성          재정  만성질환 무     기쁨     신이 난   \n",
              "4  47200   노년  여성          재정  만성질환 유     기쁨       안도   \n",
              "\n",
              "                                           사람문장1  \\\n",
              "0                      아내가 드디어 출산하게 되어서 정말 신이 나.   \n",
              "1        당뇨랑 합병증 때문에 먹어야 할 약이 열 가지가 넘어가니까 스트레스야.   \n",
              "2        고등학교에 올라오니 중학교 때보다 수업이 갑자기 어려워져서 당황스러워.   \n",
              "3  재취업이 돼서 받게 된 첫 월급으로 온 가족이 외식을 할 예정이야. 너무 행복해.   \n",
              "4                   빚을 드디어 다 갚게 되어서 이제야 안도감이 들어.   \n",
              "\n",
              "                                    시스템응답1  \\\n",
              "0                아내분이 출산을 하시는군요. 정말 축하드려요.   \n",
              "1                       약 종류가 많아 번거로우시겠어요.   \n",
              "2  고등학교 수업이 중학교 때와는 다르게 갑자기 어려워서 당황스러우시군요.   \n",
              "3                  재취업 후 첫 월급이라 정말 기쁘시겠어요.   \n",
              "4           기분 좋으시겠어요. 앞으로는 어떻게 하실 생각이신가요?   \n",
              "\n",
              "                                               사람문장2  \\\n",
              "0                                      아 지금 정말 신이 나.   \n",
              "1                        건강할 때 관리 좀 잘할걸 하는 생각이 들더라고.   \n",
              "2                  아직 학기 초인데 내가 수업에 잘 따라갈 수 있을지 걱정돼.   \n",
              "3  퇴직 후 다시는 돈을 못 벌 줄 알았는데 이렇게 월급으로 가족에게 맛있는 밥을 살 ...   \n",
              "4                  빚도 다 갚았으니 당분간은 아무 생각도 안 하며 살고 싶어.   \n",
              "\n",
              "                                 시스템응답2                               사람문장3  \\\n",
              "0                             잘 된 일이네요.  아기가 점점 클게 벌써 기대가 되네. 내가 많이 놀아줘야지.    \n",
              "1         현재 상황에서 변화를 주기 위해 어떻게 하면 될까요?          약을 잘 챙겨 먹고 나을 수 있도록 노력해야지.   \n",
              "2           이 상황에서 할 수 있는 게 어떤 것이 있을까요?       중학교 수업을 들을 때보다 훨씬 더 열심히 할 거야.   \n",
              "3               이 기분을 유지하려면 어떻게 해야 할까요?           회사생활을 열심히 해서 계속 월급을 받을거야!   \n",
              "4  빚도 다 갚았으니 당분간은 아무 생각도 안 하며 살고 싶으시군요.                                 NaN   \n",
              "\n",
              "                         시스템응답3                                      사람문장4  \\\n",
              "0  좋은 아빠가 되실 거 같아요. 진심으로 축하드려요.                                        NaN   \n",
              "1       약을 잘 챙겨 먹어 건강해지시길 바랄게요.                                        NaN   \n",
              "2    수업을 어떤 방식으로 열심히 듣는게 좋을까요?   선생님이 강조하신 부분을 필기하고 집에서 매일 수업 내용을 복습하려고 해.   \n",
              "3   계속 원하시는 대로 회사생활이 이어지길 바랄게요.                                        NaN   \n",
              "4                           NaN                                        NaN   \n",
              "\n",
              "                     시스템응답4  \n",
              "0                       NaN  \n",
              "1                       NaN  \n",
              "2  열심히 해서 좋은 결과가 있었으면 좋겠어요.  \n",
              "3                       NaN  \n",
              "4                       NaN  "
            ]
          },
          "execution_count": 8,
          "metadata": {},
          "output_type": "execute_result"
        }
      ],
      "source": [
        "df_sentiment_train.head()"
      ]
    },
    {
      "cell_type": "code",
      "execution_count": null,
      "id": "c4de2305",
      "metadata": {
        "id": "c4de2305"
      },
      "outputs": [],
      "source": [
        "df_sentiment_train_ref = pd.DataFrame(df_sentiment_train,columns=['감정_대분류','사람문장1','사람문장2'])"
      ]
    },
    {
      "cell_type": "code",
      "execution_count": null,
      "id": "336bd987",
      "metadata": {
        "id": "336bd987"
      },
      "outputs": [],
      "source": [
        "df_sentiment_valid_ref = pd.DataFrame(df_sentiment_valid,columns=['감정_대분류','사람문장1','사람문장2'])"
      ]
    },
    {
      "cell_type": "code",
      "execution_count": null,
      "id": "a349df6f",
      "metadata": {
        "id": "a349df6f",
        "outputId": "2617a3f4-cbc5-4a0a-9f46-cfdeb3cc1e3b"
      },
      "outputs": [
        {
          "data": {
            "text/html": [
              "<div>\n",
              "<style scoped>\n",
              "    .dataframe tbody tr th:only-of-type {\n",
              "        vertical-align: middle;\n",
              "    }\n",
              "\n",
              "    .dataframe tbody tr th {\n",
              "        vertical-align: top;\n",
              "    }\n",
              "\n",
              "    .dataframe thead th {\n",
              "        text-align: right;\n",
              "    }\n",
              "</style>\n",
              "<table border=\"1\" class=\"dataframe\">\n",
              "  <thead>\n",
              "    <tr style=\"text-align: right;\">\n",
              "      <th></th>\n",
              "      <th>감정_대분류</th>\n",
              "      <th>사람문장1</th>\n",
              "      <th>사람문장2</th>\n",
              "    </tr>\n",
              "  </thead>\n",
              "  <tbody>\n",
              "    <tr>\n",
              "      <th>0</th>\n",
              "      <td>기쁨</td>\n",
              "      <td>아내가 드디어 출산하게 되어서 정말 신이 나.</td>\n",
              "      <td>아 지금 정말 신이 나.</td>\n",
              "    </tr>\n",
              "    <tr>\n",
              "      <th>1</th>\n",
              "      <td>불안</td>\n",
              "      <td>당뇨랑 합병증 때문에 먹어야 할 약이 열 가지가 넘어가니까 스트레스야.</td>\n",
              "      <td>건강할 때 관리 좀 잘할걸 하는 생각이 들더라고.</td>\n",
              "    </tr>\n",
              "    <tr>\n",
              "      <th>2</th>\n",
              "      <td>당황</td>\n",
              "      <td>고등학교에 올라오니 중학교 때보다 수업이 갑자기 어려워져서 당황스러워.</td>\n",
              "      <td>아직 학기 초인데 내가 수업에 잘 따라갈 수 있을지 걱정돼.</td>\n",
              "    </tr>\n",
              "    <tr>\n",
              "      <th>3</th>\n",
              "      <td>기쁨</td>\n",
              "      <td>재취업이 돼서 받게 된 첫 월급으로 온 가족이 외식을 할 예정이야. 너무 행복해.</td>\n",
              "      <td>퇴직 후 다시는 돈을 못 벌 줄 알았는데 이렇게 월급으로 가족에게 맛있는 밥을 살 ...</td>\n",
              "    </tr>\n",
              "    <tr>\n",
              "      <th>4</th>\n",
              "      <td>기쁨</td>\n",
              "      <td>빚을 드디어 다 갚게 되어서 이제야 안도감이 들어.</td>\n",
              "      <td>빚도 다 갚았으니 당분간은 아무 생각도 안 하며 살고 싶어.</td>\n",
              "    </tr>\n",
              "  </tbody>\n",
              "</table>\n",
              "</div>"
            ],
            "text/plain": [
              "  감정_대분류                                          사람문장1  \\\n",
              "0     기쁨                      아내가 드디어 출산하게 되어서 정말 신이 나.   \n",
              "1     불안        당뇨랑 합병증 때문에 먹어야 할 약이 열 가지가 넘어가니까 스트레스야.   \n",
              "2     당황        고등학교에 올라오니 중학교 때보다 수업이 갑자기 어려워져서 당황스러워.   \n",
              "3     기쁨  재취업이 돼서 받게 된 첫 월급으로 온 가족이 외식을 할 예정이야. 너무 행복해.   \n",
              "4     기쁨                   빚을 드디어 다 갚게 되어서 이제야 안도감이 들어.   \n",
              "\n",
              "                                               사람문장2  \n",
              "0                                      아 지금 정말 신이 나.  \n",
              "1                        건강할 때 관리 좀 잘할걸 하는 생각이 들더라고.  \n",
              "2                  아직 학기 초인데 내가 수업에 잘 따라갈 수 있을지 걱정돼.  \n",
              "3  퇴직 후 다시는 돈을 못 벌 줄 알았는데 이렇게 월급으로 가족에게 맛있는 밥을 살 ...  \n",
              "4                  빚도 다 갚았으니 당분간은 아무 생각도 안 하며 살고 싶어.  "
            ]
          },
          "execution_count": 11,
          "metadata": {},
          "output_type": "execute_result"
        }
      ],
      "source": [
        "df_sentiment_train_ref.head()"
      ]
    },
    {
      "cell_type": "markdown",
      "id": "f96c4ff4",
      "metadata": {
        "id": "f96c4ff4"
      },
      "source": [
        "감정 대분류 -> one-hot labeling\n",
        "\n",
        "사람문장1 -> 영어로 column 만들기"
      ]
    },
    {
      "cell_type": "code",
      "execution_count": null,
      "id": "1034bb1d",
      "metadata": {
        "id": "1034bb1d"
      },
      "outputs": [],
      "source": [
        "df_sentiment_train_ref.rename(columns={'감정_대분류':'sentiment','사람문장1':'sent1','사람문장2':'sent2'},inplace=True)"
      ]
    },
    {
      "cell_type": "code",
      "execution_count": null,
      "id": "8d5a7e8e",
      "metadata": {
        "id": "8d5a7e8e"
      },
      "outputs": [],
      "source": [
        "df_sentiment_valid_ref.rename(columns={'감정_대분류':'sentiment','사람문장1':'sent1','사람문장2':'sent2'},inplace=True)"
      ]
    },
    {
      "cell_type": "code",
      "execution_count": null,
      "id": "88ed9b5b",
      "metadata": {
        "id": "88ed9b5b",
        "outputId": "fdda0c5a-24a7-45e9-d576-fc71f929f951"
      },
      "outputs": [
        {
          "data": {
            "text/html": [
              "<div>\n",
              "<style scoped>\n",
              "    .dataframe tbody tr th:only-of-type {\n",
              "        vertical-align: middle;\n",
              "    }\n",
              "\n",
              "    .dataframe tbody tr th {\n",
              "        vertical-align: top;\n",
              "    }\n",
              "\n",
              "    .dataframe thead th {\n",
              "        text-align: right;\n",
              "    }\n",
              "</style>\n",
              "<table border=\"1\" class=\"dataframe\">\n",
              "  <thead>\n",
              "    <tr style=\"text-align: right;\">\n",
              "      <th></th>\n",
              "      <th>sentiment</th>\n",
              "      <th>sent1</th>\n",
              "      <th>sent2</th>\n",
              "    </tr>\n",
              "  </thead>\n",
              "  <tbody>\n",
              "    <tr>\n",
              "      <th>0</th>\n",
              "      <td>기쁨</td>\n",
              "      <td>아내가 드디어 출산하게 되어서 정말 신이 나.</td>\n",
              "      <td>아 지금 정말 신이 나.</td>\n",
              "    </tr>\n",
              "    <tr>\n",
              "      <th>1</th>\n",
              "      <td>불안</td>\n",
              "      <td>당뇨랑 합병증 때문에 먹어야 할 약이 열 가지가 넘어가니까 스트레스야.</td>\n",
              "      <td>건강할 때 관리 좀 잘할걸 하는 생각이 들더라고.</td>\n",
              "    </tr>\n",
              "    <tr>\n",
              "      <th>2</th>\n",
              "      <td>당황</td>\n",
              "      <td>고등학교에 올라오니 중학교 때보다 수업이 갑자기 어려워져서 당황스러워.</td>\n",
              "      <td>아직 학기 초인데 내가 수업에 잘 따라갈 수 있을지 걱정돼.</td>\n",
              "    </tr>\n",
              "    <tr>\n",
              "      <th>3</th>\n",
              "      <td>기쁨</td>\n",
              "      <td>재취업이 돼서 받게 된 첫 월급으로 온 가족이 외식을 할 예정이야. 너무 행복해.</td>\n",
              "      <td>퇴직 후 다시는 돈을 못 벌 줄 알았는데 이렇게 월급으로 가족에게 맛있는 밥을 살 ...</td>\n",
              "    </tr>\n",
              "    <tr>\n",
              "      <th>4</th>\n",
              "      <td>기쁨</td>\n",
              "      <td>빚을 드디어 다 갚게 되어서 이제야 안도감이 들어.</td>\n",
              "      <td>빚도 다 갚았으니 당분간은 아무 생각도 안 하며 살고 싶어.</td>\n",
              "    </tr>\n",
              "  </tbody>\n",
              "</table>\n",
              "</div>"
            ],
            "text/plain": [
              "  sentiment                                          sent1  \\\n",
              "0        기쁨                      아내가 드디어 출산하게 되어서 정말 신이 나.   \n",
              "1        불안        당뇨랑 합병증 때문에 먹어야 할 약이 열 가지가 넘어가니까 스트레스야.   \n",
              "2        당황        고등학교에 올라오니 중학교 때보다 수업이 갑자기 어려워져서 당황스러워.   \n",
              "3        기쁨  재취업이 돼서 받게 된 첫 월급으로 온 가족이 외식을 할 예정이야. 너무 행복해.   \n",
              "4        기쁨                   빚을 드디어 다 갚게 되어서 이제야 안도감이 들어.   \n",
              "\n",
              "                                               sent2  \n",
              "0                                      아 지금 정말 신이 나.  \n",
              "1                        건강할 때 관리 좀 잘할걸 하는 생각이 들더라고.  \n",
              "2                  아직 학기 초인데 내가 수업에 잘 따라갈 수 있을지 걱정돼.  \n",
              "3  퇴직 후 다시는 돈을 못 벌 줄 알았는데 이렇게 월급으로 가족에게 맛있는 밥을 살 ...  \n",
              "4                  빚도 다 갚았으니 당분간은 아무 생각도 안 하며 살고 싶어.  "
            ]
          },
          "execution_count": 14,
          "metadata": {},
          "output_type": "execute_result"
        }
      ],
      "source": [
        "df_sentiment_train_ref.head()"
      ]
    },
    {
      "cell_type": "code",
      "execution_count": null,
      "id": "14867898",
      "metadata": {
        "id": "14867898"
      },
      "outputs": [],
      "source": [
        "from sklearn.preprocessing import LabelEncoder"
      ]
    },
    {
      "cell_type": "code",
      "execution_count": null,
      "id": "133cf9a4",
      "metadata": {
        "id": "133cf9a4"
      },
      "outputs": [],
      "source": [
        ""
      ]
    },
    {
      "cell_type": "code",
      "execution_count": null,
      "id": "cd125a10",
      "metadata": {
        "id": "cd125a10"
      },
      "outputs": [],
      "source": [
        ""
      ]
    },
    {
      "cell_type": "code",
      "execution_count": null,
      "id": "43058d8a",
      "metadata": {
        "id": "43058d8a"
      },
      "outputs": [],
      "source": [
        "def strip_x(x):\n",
        "    x = x.strip()\n",
        "    return x\n",
        "df_sentiment_train_ref.sentiment = df_sentiment_train_ref.sentiment.apply(strip_x)"
      ]
    },
    {
      "cell_type": "code",
      "execution_count": null,
      "id": "65319748",
      "metadata": {
        "id": "65319748",
        "outputId": "eadd296e-1db2-4fe6-f99b-e6712c10ac7d"
      },
      "outputs": [
        {
          "data": {
            "text/plain": [
              "LabelEncoder()"
            ]
          },
          "execution_count": 17,
          "metadata": {},
          "output_type": "execute_result"
        }
      ],
      "source": [
        "le = LabelEncoder()\n",
        "le.fit(df_sentiment_train_ref.sentiment)"
      ]
    },
    {
      "cell_type": "code",
      "execution_count": null,
      "id": "e1346299",
      "metadata": {
        "id": "e1346299"
      },
      "outputs": [],
      "source": [
        "train_senti = le.transform(df_sentiment_train_ref.sentiment)"
      ]
    },
    {
      "cell_type": "code",
      "execution_count": null,
      "id": "0993755f",
      "metadata": {
        "id": "0993755f"
      },
      "outputs": [],
      "source": [
        "valid_senti = le.transform(df_sentiment_valid_ref.sentiment)"
      ]
    },
    {
      "cell_type": "code",
      "execution_count": null,
      "id": "b7a4b671",
      "metadata": {
        "id": "b7a4b671"
      },
      "outputs": [],
      "source": [
        ""
      ]
    },
    {
      "cell_type": "code",
      "execution_count": null,
      "id": "e7c5f0b3",
      "metadata": {
        "id": "e7c5f0b3",
        "outputId": "7500fca6-d9e3-4721-f530-53e223ef6144"
      },
      "outputs": [
        {
          "data": {
            "text/html": [
              "<div>\n",
              "<style scoped>\n",
              "    .dataframe tbody tr th:only-of-type {\n",
              "        vertical-align: middle;\n",
              "    }\n",
              "\n",
              "    .dataframe tbody tr th {\n",
              "        vertical-align: top;\n",
              "    }\n",
              "\n",
              "    .dataframe thead th {\n",
              "        text-align: right;\n",
              "    }\n",
              "</style>\n",
              "<table border=\"1\" class=\"dataframe\">\n",
              "  <thead>\n",
              "    <tr style=\"text-align: right;\">\n",
              "      <th></th>\n",
              "      <th>sent1</th>\n",
              "      <th>sent2</th>\n",
              "      <th>0</th>\n",
              "    </tr>\n",
              "  </thead>\n",
              "  <tbody>\n",
              "    <tr>\n",
              "      <th>0</th>\n",
              "      <td>아내가 드디어 출산하게 되어서 정말 신이 나.</td>\n",
              "      <td>아 지금 정말 신이 나.</td>\n",
              "      <td>0</td>\n",
              "    </tr>\n",
              "    <tr>\n",
              "      <th>1</th>\n",
              "      <td>당뇨랑 합병증 때문에 먹어야 할 약이 열 가지가 넘어가니까 스트레스야.</td>\n",
              "      <td>건강할 때 관리 좀 잘할걸 하는 생각이 들더라고.</td>\n",
              "      <td>3</td>\n",
              "    </tr>\n",
              "    <tr>\n",
              "      <th>2</th>\n",
              "      <td>고등학교에 올라오니 중학교 때보다 수업이 갑자기 어려워져서 당황스러워.</td>\n",
              "      <td>아직 학기 초인데 내가 수업에 잘 따라갈 수 있을지 걱정돼.</td>\n",
              "      <td>1</td>\n",
              "    </tr>\n",
              "    <tr>\n",
              "      <th>3</th>\n",
              "      <td>재취업이 돼서 받게 된 첫 월급으로 온 가족이 외식을 할 예정이야. 너무 행복해.</td>\n",
              "      <td>퇴직 후 다시는 돈을 못 벌 줄 알았는데 이렇게 월급으로 가족에게 맛있는 밥을 살 ...</td>\n",
              "      <td>0</td>\n",
              "    </tr>\n",
              "    <tr>\n",
              "      <th>4</th>\n",
              "      <td>빚을 드디어 다 갚게 되어서 이제야 안도감이 들어.</td>\n",
              "      <td>빚도 다 갚았으니 당분간은 아무 생각도 안 하며 살고 싶어.</td>\n",
              "      <td>0</td>\n",
              "    </tr>\n",
              "  </tbody>\n",
              "</table>\n",
              "</div>"
            ],
            "text/plain": [
              "                                           sent1  \\\n",
              "0                      아내가 드디어 출산하게 되어서 정말 신이 나.   \n",
              "1        당뇨랑 합병증 때문에 먹어야 할 약이 열 가지가 넘어가니까 스트레스야.   \n",
              "2        고등학교에 올라오니 중학교 때보다 수업이 갑자기 어려워져서 당황스러워.   \n",
              "3  재취업이 돼서 받게 된 첫 월급으로 온 가족이 외식을 할 예정이야. 너무 행복해.   \n",
              "4                   빚을 드디어 다 갚게 되어서 이제야 안도감이 들어.   \n",
              "\n",
              "                                               sent2  0  \n",
              "0                                      아 지금 정말 신이 나.  0  \n",
              "1                        건강할 때 관리 좀 잘할걸 하는 생각이 들더라고.  3  \n",
              "2                  아직 학기 초인데 내가 수업에 잘 따라갈 수 있을지 걱정돼.  1  \n",
              "3  퇴직 후 다시는 돈을 못 벌 줄 알았는데 이렇게 월급으로 가족에게 맛있는 밥을 살 ...  0  \n",
              "4                  빚도 다 갚았으니 당분간은 아무 생각도 안 하며 살고 싶어.  0  "
            ]
          },
          "execution_count": 20,
          "metadata": {},
          "output_type": "execute_result"
        }
      ],
      "source": [
        "df_train_onehot = pd.concat([pd.DataFrame(df_sentiment_train_ref.sent1),pd.DataFrame(df_sentiment_train_ref.sent2),pd.DataFrame(train_senti)],axis=1)\n",
        "df_train_onehot.head()"
      ]
    },
    {
      "cell_type": "code",
      "execution_count": null,
      "id": "878afb6c",
      "metadata": {
        "id": "878afb6c",
        "outputId": "c7c89413-223a-4ccf-a491-4edc405ff620"
      },
      "outputs": [
        {
          "data": {
            "text/html": [
              "<div>\n",
              "<style scoped>\n",
              "    .dataframe tbody tr th:only-of-type {\n",
              "        vertical-align: middle;\n",
              "    }\n",
              "\n",
              "    .dataframe tbody tr th {\n",
              "        vertical-align: top;\n",
              "    }\n",
              "\n",
              "    .dataframe thead th {\n",
              "        text-align: right;\n",
              "    }\n",
              "</style>\n",
              "<table border=\"1\" class=\"dataframe\">\n",
              "  <thead>\n",
              "    <tr style=\"text-align: right;\">\n",
              "      <th></th>\n",
              "      <th>sent1</th>\n",
              "      <th>sent2</th>\n",
              "      <th>0</th>\n",
              "    </tr>\n",
              "  </thead>\n",
              "  <tbody>\n",
              "    <tr>\n",
              "      <th>0</th>\n",
              "      <td>요즘 부모님과 많이 부딪혀.</td>\n",
              "      <td>난 하고 싶은 일이 있는데 부모님은 안정적인 일만 하라고 하셔. 내 마음대로 하지도...</td>\n",
              "      <td>2</td>\n",
              "    </tr>\n",
              "    <tr>\n",
              "      <th>1</th>\n",
              "      <td>엄마가 결국 집을 나갔어. 너무 너무 슬퍼.</td>\n",
              "      <td>엄마도 엄마만의 인생이 있을 테니 가지 말라고 할 수가 없었어. 그래서 더 마음이 ...</td>\n",
              "      <td>5</td>\n",
              "    </tr>\n",
              "    <tr>\n",
              "      <th>2</th>\n",
              "      <td>학교에서 한 친구를 괴롭히는 무리에게 그만하라고 했어.</td>\n",
              "      <td>그런데 말을 하고 난 후 나도 괴롭힐까 봐 불안했어.</td>\n",
              "      <td>3</td>\n",
              "    </tr>\n",
              "    <tr>\n",
              "      <th>3</th>\n",
              "      <td>이번에 팀장님이 간단한 조사 업무를 부탁하셨는데 내가 잘못 처리했어. 너무 절망적이야.</td>\n",
              "      <td>곧 있으면 인턴에서 정규직 전환 평가가 있는데 안 좋을 것 같아.</td>\n",
              "      <td>1</td>\n",
              "    </tr>\n",
              "    <tr>\n",
              "      <th>4</th>\n",
              "      <td>남편이 이혼할 때 위자료를 주지 않으려고 변호사를 고용했어.</td>\n",
              "      <td>어떻게 그럴 수가 있지? 너무 화가 나.</td>\n",
              "      <td>2</td>\n",
              "    </tr>\n",
              "  </tbody>\n",
              "</table>\n",
              "</div>"
            ],
            "text/plain": [
              "                                              sent1  \\\n",
              "0                                   요즘 부모님과 많이 부딪혀.   \n",
              "1                          엄마가 결국 집을 나갔어. 너무 너무 슬퍼.   \n",
              "2                    학교에서 한 친구를 괴롭히는 무리에게 그만하라고 했어.   \n",
              "3  이번에 팀장님이 간단한 조사 업무를 부탁하셨는데 내가 잘못 처리했어. 너무 절망적이야.   \n",
              "4                 남편이 이혼할 때 위자료를 주지 않으려고 변호사를 고용했어.   \n",
              "\n",
              "                                               sent2  0  \n",
              "0  난 하고 싶은 일이 있는데 부모님은 안정적인 일만 하라고 하셔. 내 마음대로 하지도...  2  \n",
              "1  엄마도 엄마만의 인생이 있을 테니 가지 말라고 할 수가 없었어. 그래서 더 마음이 ...  5  \n",
              "2                      그런데 말을 하고 난 후 나도 괴롭힐까 봐 불안했어.  3  \n",
              "3               곧 있으면 인턴에서 정규직 전환 평가가 있는데 안 좋을 것 같아.  1  \n",
              "4                             어떻게 그럴 수가 있지? 너무 화가 나.  2  "
            ]
          },
          "execution_count": 21,
          "metadata": {},
          "output_type": "execute_result"
        }
      ],
      "source": [
        "df_valid_onehot = pd.concat([pd.DataFrame(df_sentiment_valid_ref.sent1),pd.DataFrame(df_sentiment_valid_ref.sent2),pd.DataFrame(valid_senti)],axis=1)\n",
        "df_valid_onehot.head()"
      ]
    },
    {
      "cell_type": "code",
      "execution_count": null,
      "id": "a825b2a4",
      "metadata": {
        "id": "a825b2a4"
      },
      "outputs": [],
      "source": [
        "df_train_onehot.rename(columns={0:'sentiment'},inplace=True)\n",
        "df_valid_onehot.rename(columns={0:'sentiment'},inplace=True)"
      ]
    },
    {
      "cell_type": "code",
      "execution_count": null,
      "id": "297d70b1",
      "metadata": {
        "id": "297d70b1",
        "outputId": "d80225c8-7b7c-4ba7-d8f4-f368b57a2ab7"
      },
      "outputs": [
        {
          "data": {
            "text/html": [
              "<div>\n",
              "<style scoped>\n",
              "    .dataframe tbody tr th:only-of-type {\n",
              "        vertical-align: middle;\n",
              "    }\n",
              "\n",
              "    .dataframe tbody tr th {\n",
              "        vertical-align: top;\n",
              "    }\n",
              "\n",
              "    .dataframe thead th {\n",
              "        text-align: right;\n",
              "    }\n",
              "</style>\n",
              "<table border=\"1\" class=\"dataframe\">\n",
              "  <thead>\n",
              "    <tr style=\"text-align: right;\">\n",
              "      <th></th>\n",
              "      <th>sent1</th>\n",
              "      <th>sent2</th>\n",
              "      <th>sentiment</th>\n",
              "    </tr>\n",
              "  </thead>\n",
              "  <tbody>\n",
              "    <tr>\n",
              "      <th>0</th>\n",
              "      <td>아내가 드디어 출산하게 되어서 정말 신이 나.</td>\n",
              "      <td>아 지금 정말 신이 나.</td>\n",
              "      <td>0</td>\n",
              "    </tr>\n",
              "    <tr>\n",
              "      <th>1</th>\n",
              "      <td>당뇨랑 합병증 때문에 먹어야 할 약이 열 가지가 넘어가니까 스트레스야.</td>\n",
              "      <td>건강할 때 관리 좀 잘할걸 하는 생각이 들더라고.</td>\n",
              "      <td>3</td>\n",
              "    </tr>\n",
              "    <tr>\n",
              "      <th>2</th>\n",
              "      <td>고등학교에 올라오니 중학교 때보다 수업이 갑자기 어려워져서 당황스러워.</td>\n",
              "      <td>아직 학기 초인데 내가 수업에 잘 따라갈 수 있을지 걱정돼.</td>\n",
              "      <td>1</td>\n",
              "    </tr>\n",
              "    <tr>\n",
              "      <th>3</th>\n",
              "      <td>재취업이 돼서 받게 된 첫 월급으로 온 가족이 외식을 할 예정이야. 너무 행복해.</td>\n",
              "      <td>퇴직 후 다시는 돈을 못 벌 줄 알았는데 이렇게 월급으로 가족에게 맛있는 밥을 살 ...</td>\n",
              "      <td>0</td>\n",
              "    </tr>\n",
              "    <tr>\n",
              "      <th>4</th>\n",
              "      <td>빚을 드디어 다 갚게 되어서 이제야 안도감이 들어.</td>\n",
              "      <td>빚도 다 갚았으니 당분간은 아무 생각도 안 하며 살고 싶어.</td>\n",
              "      <td>0</td>\n",
              "    </tr>\n",
              "  </tbody>\n",
              "</table>\n",
              "</div>"
            ],
            "text/plain": [
              "                                           sent1  \\\n",
              "0                      아내가 드디어 출산하게 되어서 정말 신이 나.   \n",
              "1        당뇨랑 합병증 때문에 먹어야 할 약이 열 가지가 넘어가니까 스트레스야.   \n",
              "2        고등학교에 올라오니 중학교 때보다 수업이 갑자기 어려워져서 당황스러워.   \n",
              "3  재취업이 돼서 받게 된 첫 월급으로 온 가족이 외식을 할 예정이야. 너무 행복해.   \n",
              "4                   빚을 드디어 다 갚게 되어서 이제야 안도감이 들어.   \n",
              "\n",
              "                                               sent2  sentiment  \n",
              "0                                      아 지금 정말 신이 나.          0  \n",
              "1                        건강할 때 관리 좀 잘할걸 하는 생각이 들더라고.          3  \n",
              "2                  아직 학기 초인데 내가 수업에 잘 따라갈 수 있을지 걱정돼.          1  \n",
              "3  퇴직 후 다시는 돈을 못 벌 줄 알았는데 이렇게 월급으로 가족에게 맛있는 밥을 살 ...          0  \n",
              "4                  빚도 다 갚았으니 당분간은 아무 생각도 안 하며 살고 싶어.          0  "
            ]
          },
          "execution_count": 23,
          "metadata": {},
          "output_type": "execute_result"
        }
      ],
      "source": [
        "df_train_onehot.head()"
      ]
    },
    {
      "cell_type": "code",
      "execution_count": null,
      "id": "98bd5295",
      "metadata": {
        "id": "98bd5295",
        "outputId": "e11b2436-1592-43b2-eaf3-122be0339f0c"
      },
      "outputs": [
        {
          "data": {
            "text/html": [
              "<div>\n",
              "<style scoped>\n",
              "    .dataframe tbody tr th:only-of-type {\n",
              "        vertical-align: middle;\n",
              "    }\n",
              "\n",
              "    .dataframe tbody tr th {\n",
              "        vertical-align: top;\n",
              "    }\n",
              "\n",
              "    .dataframe thead th {\n",
              "        text-align: right;\n",
              "    }\n",
              "</style>\n",
              "<table border=\"1\" class=\"dataframe\">\n",
              "  <thead>\n",
              "    <tr style=\"text-align: right;\">\n",
              "      <th></th>\n",
              "      <th>sent1</th>\n",
              "      <th>sent2</th>\n",
              "      <th>sentiment</th>\n",
              "    </tr>\n",
              "  </thead>\n",
              "  <tbody>\n",
              "    <tr>\n",
              "      <th>0</th>\n",
              "      <td>요즘 부모님과 많이 부딪혀.</td>\n",
              "      <td>난 하고 싶은 일이 있는데 부모님은 안정적인 일만 하라고 하셔. 내 마음대로 하지도...</td>\n",
              "      <td>2</td>\n",
              "    </tr>\n",
              "    <tr>\n",
              "      <th>1</th>\n",
              "      <td>엄마가 결국 집을 나갔어. 너무 너무 슬퍼.</td>\n",
              "      <td>엄마도 엄마만의 인생이 있을 테니 가지 말라고 할 수가 없었어. 그래서 더 마음이 ...</td>\n",
              "      <td>5</td>\n",
              "    </tr>\n",
              "    <tr>\n",
              "      <th>2</th>\n",
              "      <td>학교에서 한 친구를 괴롭히는 무리에게 그만하라고 했어.</td>\n",
              "      <td>그런데 말을 하고 난 후 나도 괴롭힐까 봐 불안했어.</td>\n",
              "      <td>3</td>\n",
              "    </tr>\n",
              "    <tr>\n",
              "      <th>3</th>\n",
              "      <td>이번에 팀장님이 간단한 조사 업무를 부탁하셨는데 내가 잘못 처리했어. 너무 절망적이야.</td>\n",
              "      <td>곧 있으면 인턴에서 정규직 전환 평가가 있는데 안 좋을 것 같아.</td>\n",
              "      <td>1</td>\n",
              "    </tr>\n",
              "    <tr>\n",
              "      <th>4</th>\n",
              "      <td>남편이 이혼할 때 위자료를 주지 않으려고 변호사를 고용했어.</td>\n",
              "      <td>어떻게 그럴 수가 있지? 너무 화가 나.</td>\n",
              "      <td>2</td>\n",
              "    </tr>\n",
              "  </tbody>\n",
              "</table>\n",
              "</div>"
            ],
            "text/plain": [
              "                                              sent1  \\\n",
              "0                                   요즘 부모님과 많이 부딪혀.   \n",
              "1                          엄마가 결국 집을 나갔어. 너무 너무 슬퍼.   \n",
              "2                    학교에서 한 친구를 괴롭히는 무리에게 그만하라고 했어.   \n",
              "3  이번에 팀장님이 간단한 조사 업무를 부탁하셨는데 내가 잘못 처리했어. 너무 절망적이야.   \n",
              "4                 남편이 이혼할 때 위자료를 주지 않으려고 변호사를 고용했어.   \n",
              "\n",
              "                                               sent2  sentiment  \n",
              "0  난 하고 싶은 일이 있는데 부모님은 안정적인 일만 하라고 하셔. 내 마음대로 하지도...          2  \n",
              "1  엄마도 엄마만의 인생이 있을 테니 가지 말라고 할 수가 없었어. 그래서 더 마음이 ...          5  \n",
              "2                      그런데 말을 하고 난 후 나도 괴롭힐까 봐 불안했어.          3  \n",
              "3               곧 있으면 인턴에서 정규직 전환 평가가 있는데 안 좋을 것 같아.          1  \n",
              "4                             어떻게 그럴 수가 있지? 너무 화가 나.          2  "
            ]
          },
          "execution_count": 24,
          "metadata": {},
          "output_type": "execute_result"
        }
      ],
      "source": [
        "df_valid_onehot.head()"
      ]
    },
    {
      "cell_type": "code",
      "execution_count": null,
      "id": "75fd5ede",
      "metadata": {
        "id": "75fd5ede"
      },
      "outputs": [],
      "source": [
        "class Preprocessor:\n",
        "    def __init__(self):\n",
        "        self.stopWords = []\n",
        "    def lyrics_extractor(self,lyrics):\n",
        "        nouns = []\n",
        "        mecab = Mecab()\n",
        "        for (i,j) in zip(lyrics.sent1,lyrics.sent2):\n",
        "            sents = mecab.pos(i)\n",
        "            result = []\n",
        "            for word in sents:\n",
        "                if word not in self.stopWords:\n",
        "                    if word[1] == 'NNG' or word[1][0] == 'V':\n",
        "                    #if word[1][0] == 'V':\n",
        "                        result.append(word[0])\n",
        "            #nouns.append(result)\n",
        "            sents = mecab.pos(j)\n",
        "            #result = []\n",
        "            for word in sents:\n",
        "                if word not in self.stopWords:\n",
        "                    if word[1] == 'NNG' or word[1][0] == 'V':\n",
        "                    #if word[1][0] == 'V':\n",
        "                        result.append(word[0])\n",
        "            nouns.append(result)\n",
        "        return nouns"
      ]
    },
    {
      "cell_type": "code",
      "execution_count": null,
      "id": "24c1f5fa",
      "metadata": {
        "id": "24c1f5fa"
      },
      "outputs": [],
      "source": [
        "prep = Preprocessor()\n",
        "df_train = prep.lyrics_extractor(df_train_onehot)"
      ]
    },
    {
      "cell_type": "code",
      "execution_count": null,
      "id": "70599f14",
      "metadata": {
        "id": "70599f14"
      },
      "outputs": [],
      "source": [
        "df_valid = prep.lyrics_extractor(df_valid_onehot)"
      ]
    },
    {
      "cell_type": "code",
      "execution_count": null,
      "id": "64e51e42",
      "metadata": {
        "id": "64e51e42"
      },
      "outputs": [],
      "source": [
        "df_train_onehot['sent'] = df_train"
      ]
    },
    {
      "cell_type": "code",
      "execution_count": null,
      "id": "3f47cd63",
      "metadata": {
        "id": "3f47cd63",
        "outputId": "4ae3065a-ab71-4fd7-ffd2-38533846c3a3"
      },
      "outputs": [
        {
          "data": {
            "text/html": [
              "<div>\n",
              "<style scoped>\n",
              "    .dataframe tbody tr th:only-of-type {\n",
              "        vertical-align: middle;\n",
              "    }\n",
              "\n",
              "    .dataframe tbody tr th {\n",
              "        vertical-align: top;\n",
              "    }\n",
              "\n",
              "    .dataframe thead th {\n",
              "        text-align: right;\n",
              "    }\n",
              "</style>\n",
              "<table border=\"1\" class=\"dataframe\">\n",
              "  <thead>\n",
              "    <tr style=\"text-align: right;\">\n",
              "      <th></th>\n",
              "      <th>sent1</th>\n",
              "      <th>sent2</th>\n",
              "      <th>sentiment</th>\n",
              "      <th>sent</th>\n",
              "    </tr>\n",
              "  </thead>\n",
              "  <tbody>\n",
              "    <tr>\n",
              "      <th>0</th>\n",
              "      <td>아내가 드디어 출산하게 되어서 정말 신이 나.</td>\n",
              "      <td>아 지금 정말 신이 나.</td>\n",
              "      <td>0</td>\n",
              "      <td>[아내, 출산, 되, 신, 신]</td>\n",
              "    </tr>\n",
              "    <tr>\n",
              "      <th>1</th>\n",
              "      <td>당뇨랑 합병증 때문에 먹어야 할 약이 열 가지가 넘어가니까 스트레스야.</td>\n",
              "      <td>건강할 때 관리 좀 잘할걸 하는 생각이 들더라고.</td>\n",
              "      <td>3</td>\n",
              "      <td>[당뇨, 합병증, 먹, 할, 넘어가, 스트레스, 야, 건강, 때, 관리, 할, 하,...</td>\n",
              "    </tr>\n",
              "    <tr>\n",
              "      <th>2</th>\n",
              "      <td>고등학교에 올라오니 중학교 때보다 수업이 갑자기 어려워져서 당황스러워.</td>\n",
              "      <td>아직 학기 초인데 내가 수업에 잘 따라갈 수 있을지 걱정돼.</td>\n",
              "      <td>1</td>\n",
              "      <td>[고등학교, 올라오, 중학교, 때, 수업, 어려워져서, 당황, 학기, 인데, 수업,...</td>\n",
              "    </tr>\n",
              "    <tr>\n",
              "      <th>3</th>\n",
              "      <td>재취업이 돼서 받게 된 첫 월급으로 온 가족이 외식을 할 예정이야. 너무 행복해.</td>\n",
              "      <td>퇴직 후 다시는 돈을 못 벌 줄 알았는데 이렇게 월급으로 가족에게 맛있는 밥을 살 ...</td>\n",
              "      <td>0</td>\n",
              "      <td>[재취업, 돼서, 받, 된, 월급, 온, 가족, 외식, 할, 예정, 이, 행복, 퇴...</td>\n",
              "    </tr>\n",
              "    <tr>\n",
              "      <th>4</th>\n",
              "      <td>빚을 드디어 다 갚게 되어서 이제야 안도감이 들어.</td>\n",
              "      <td>빚도 다 갚았으니 당분간은 아무 생각도 안 하며 살고 싶어.</td>\n",
              "      <td>0</td>\n",
              "      <td>[빚, 갚, 되, 안도감, 들, 빚, 갚, 생각, 하, 살, 싶]</td>\n",
              "    </tr>\n",
              "  </tbody>\n",
              "</table>\n",
              "</div>"
            ],
            "text/plain": [
              "                                           sent1  \\\n",
              "0                      아내가 드디어 출산하게 되어서 정말 신이 나.   \n",
              "1        당뇨랑 합병증 때문에 먹어야 할 약이 열 가지가 넘어가니까 스트레스야.   \n",
              "2        고등학교에 올라오니 중학교 때보다 수업이 갑자기 어려워져서 당황스러워.   \n",
              "3  재취업이 돼서 받게 된 첫 월급으로 온 가족이 외식을 할 예정이야. 너무 행복해.   \n",
              "4                   빚을 드디어 다 갚게 되어서 이제야 안도감이 들어.   \n",
              "\n",
              "                                               sent2  sentiment  \\\n",
              "0                                      아 지금 정말 신이 나.          0   \n",
              "1                        건강할 때 관리 좀 잘할걸 하는 생각이 들더라고.          3   \n",
              "2                  아직 학기 초인데 내가 수업에 잘 따라갈 수 있을지 걱정돼.          1   \n",
              "3  퇴직 후 다시는 돈을 못 벌 줄 알았는데 이렇게 월급으로 가족에게 맛있는 밥을 살 ...          0   \n",
              "4                  빚도 다 갚았으니 당분간은 아무 생각도 안 하며 살고 싶어.          0   \n",
              "\n",
              "                                                sent  \n",
              "0                                  [아내, 출산, 되, 신, 신]  \n",
              "1  [당뇨, 합병증, 먹, 할, 넘어가, 스트레스, 야, 건강, 때, 관리, 할, 하,...  \n",
              "2  [고등학교, 올라오, 중학교, 때, 수업, 어려워져서, 당황, 학기, 인데, 수업,...  \n",
              "3  [재취업, 돼서, 받, 된, 월급, 온, 가족, 외식, 할, 예정, 이, 행복, 퇴...  \n",
              "4               [빚, 갚, 되, 안도감, 들, 빚, 갚, 생각, 하, 살, 싶]  "
            ]
          },
          "execution_count": 29,
          "metadata": {},
          "output_type": "execute_result"
        }
      ],
      "source": [
        "df_train_onehot.head()"
      ]
    },
    {
      "cell_type": "code",
      "execution_count": null,
      "id": "da0e4758",
      "metadata": {
        "id": "da0e4758"
      },
      "outputs": [],
      "source": [
        "df_valid_onehot['sent'] = df_valid"
      ]
    },
    {
      "cell_type": "code",
      "execution_count": null,
      "id": "b669e725",
      "metadata": {
        "id": "b669e725"
      },
      "outputs": [],
      "source": [
        "df_train_onehot.to_csv('./preprocessed/train_v.tsv',sep='\\t',index=False)\n",
        "df_valid_onehot.to_csv('./preprocessed/valid_v.tsv',sep='\\t',index=False)"
      ]
    },
    {
      "cell_type": "code",
      "execution_count": null,
      "id": "c1cd8322",
      "metadata": {
        "id": "c1cd8322",
        "outputId": "8ad941c5-b6cf-4961-de06-c02ae03b546b"
      },
      "outputs": [
        {
          "data": {
            "text/html": [
              "<div>\n",
              "<style scoped>\n",
              "    .dataframe tbody tr th:only-of-type {\n",
              "        vertical-align: middle;\n",
              "    }\n",
              "\n",
              "    .dataframe tbody tr th {\n",
              "        vertical-align: top;\n",
              "    }\n",
              "\n",
              "    .dataframe thead th {\n",
              "        text-align: right;\n",
              "    }\n",
              "</style>\n",
              "<table border=\"1\" class=\"dataframe\">\n",
              "  <thead>\n",
              "    <tr style=\"text-align: right;\">\n",
              "      <th></th>\n",
              "      <th>lyrics</th>\n",
              "      <th>artist</th>\n",
              "      <th>age</th>\n",
              "    </tr>\n",
              "  </thead>\n",
              "  <tbody>\n",
              "    <tr>\n",
              "      <th>0</th>\n",
              "      <td>나 아직 꿈을 꾸죠\\n밤하늘 희미한 달빛처럼\\n눈부셨던 기억 속에 그 사람\\n어렴풋...</td>\n",
              "      <td>이선희</td>\n",
              "      <td>80</td>\n",
              "    </tr>\n",
              "    <tr>\n",
              "      <th>1</th>\n",
              "      <td>약속해요 이 순간이 다 지나고\\n다시 보게 되는 그날\\n모든 걸 버리고 그대 곁에 ...</td>\n",
              "      <td>이선희</td>\n",
              "      <td>80</td>\n",
              "    </tr>\n",
              "    <tr>\n",
              "      <th>2</th>\n",
              "      <td>소슬한 바람이 마음에 불어\\n나비인 듯 날아 마음이 닿는 곳\\n맘 같지 않은 세상\\...</td>\n",
              "      <td>이선희</td>\n",
              "      <td>80</td>\n",
              "    </tr>\n",
              "    <tr>\n",
              "      <th>3</th>\n",
              "      <td>그렇게 대단한 운명까진\\n바란적 없다 생각했는데\\n그대 하나 떠나간 내 하룬 이제\\...</td>\n",
              "      <td>이선희</td>\n",
              "      <td>80</td>\n",
              "    </tr>\n",
              "    <tr>\n",
              "      <th>4</th>\n",
              "      <td>이렇게 함께하는 편안한\\n서로의 곁 연애할 때처럼 설레요\\n밤이 내린 하늘엔 별이 ...</td>\n",
              "      <td>이선희</td>\n",
              "      <td>80</td>\n",
              "    </tr>\n",
              "  </tbody>\n",
              "</table>\n",
              "</div>"
            ],
            "text/plain": [
              "                                              lyrics artist  age\n",
              "0  나 아직 꿈을 꾸죠\\n밤하늘 희미한 달빛처럼\\n눈부셨던 기억 속에 그 사람\\n어렴풋...    이선희   80\n",
              "1  약속해요 이 순간이 다 지나고\\n다시 보게 되는 그날\\n모든 걸 버리고 그대 곁에 ...    이선희   80\n",
              "2  소슬한 바람이 마음에 불어\\n나비인 듯 날아 마음이 닿는 곳\\n맘 같지 않은 세상\\...    이선희   80\n",
              "3  그렇게 대단한 운명까진\\n바란적 없다 생각했는데\\n그대 하나 떠나간 내 하룬 이제\\...    이선희   80\n",
              "4  이렇게 함께하는 편안한\\n서로의 곁 연애할 때처럼 설레요\\n밤이 내린 하늘엔 별이 ...    이선희   80"
            ]
          },
          "execution_count": 32,
          "metadata": {},
          "output_type": "execute_result"
        }
      ],
      "source": [
        "df.head()"
      ]
    },
    {
      "cell_type": "markdown",
      "id": "b28c723a",
      "metadata": {
        "id": "b28c723a"
      },
      "source": [
        "'\\n' 구분자로 끊기"
      ]
    },
    {
      "cell_type": "code",
      "execution_count": null,
      "id": "bcc107a0",
      "metadata": {
        "id": "bcc107a0"
      },
      "outputs": [],
      "source": [
        "df['lyric_sep'] = df['lyrics'].str.split('\\n')"
      ]
    },
    {
      "cell_type": "code",
      "execution_count": null,
      "id": "ed64e4a2",
      "metadata": {
        "id": "ed64e4a2"
      },
      "outputs": [],
      "source": [
        "s = df['lyric_sep'][0]"
      ]
    },
    {
      "cell_type": "code",
      "execution_count": null,
      "id": "fbebdc1a",
      "metadata": {
        "id": "fbebdc1a"
      },
      "outputs": [],
      "source": [
        "def joinByN(n,lyric_sep):\n",
        "    length = len(lyric_sep)\n",
        "    lyrics = []\n",
        "    for i in range(length//n):\n",
        "        if (i*4+n)>length:\n",
        "            j = length\n",
        "        else: j=i*4+n\n",
        "        lyrics.append(\" \".join(lyric_sep[i*4:j]))\n",
        "    return lyrics"
      ]
    },
    {
      "cell_type": "code",
      "execution_count": null,
      "id": "2f732928",
      "metadata": {
        "id": "2f732928",
        "outputId": "4f6ad85a-f225-4598-f924-eb30873759dd"
      },
      "outputs": [
        {
          "data": {
            "text/plain": [
              "['나 아직 꿈을 꾸죠 밤하늘 희미한 달빛처럼 눈부셨던 기억 속에 그 사람 어렴풋이 생각이 나네요',\n",
              " '바람에 흩날리는 꽃잎에 따뜻한 그대 향기를 느끼고 스쳐 지나간 듯한 짧았었던 인연이 이제',\n",
              " '내 전부인 걸요 같은 하늘 아래 그대와 함께 있다는 걸 지워질까 두려운 거죠',\n",
              " '푸른 바다 수평선까지 걸을 수 있다면 나 그대 손 놓지 않을게 하늘에 수놓아진 별빛에',\n",
              " '따뜻한 그대 숨결을 느끼고 운명처럼 그대와 이대로만 이렇게 남아 숨 쉴 수 있다면',\n",
              " '같은 하늘 아래 그대와 함께 있다는 걸 지워질까 두려운 거죠 푸른 바다 수평선까지',\n",
              " '걸을 수 있다면 나 그대 손 놓지 않을게 같은 하늘 아래 그대와 함께 있다는 걸',\n",
              " '지워질까 두려운 거죠 푸른 바다 수평선까지 걸을 수 있다면 나 그대 손 놓지 않을게']"
            ]
          },
          "execution_count": 36,
          "metadata": {},
          "output_type": "execute_result"
        }
      ],
      "source": [
        "joinByN(4,s)"
      ]
    },
    {
      "cell_type": "code",
      "execution_count": null,
      "id": "466f0956",
      "metadata": {
        "id": "466f0956"
      },
      "outputs": [],
      "source": [
        "df['lyrics_sep'] = df['lyric_sep'].apply(lambda x : joinByN(4,x))"
      ]
    },
    {
      "cell_type": "code",
      "execution_count": null,
      "id": "6c05b719",
      "metadata": {
        "id": "6c05b719",
        "outputId": "52e51323-0b4c-4d73-d5f3-3222dd7ee275"
      },
      "outputs": [
        {
          "data": {
            "text/plain": [
              "['나 아직 꿈을 꾸죠 밤하늘 희미한 달빛처럼 눈부셨던 기억 속에 그 사람 어렴풋이 생각이 나네요',\n",
              " '바람에 흩날리는 꽃잎에 따뜻한 그대 향기를 느끼고 스쳐 지나간 듯한 짧았었던 인연이 이제',\n",
              " '내 전부인 걸요 같은 하늘 아래 그대와 함께 있다는 걸 지워질까 두려운 거죠',\n",
              " '푸른 바다 수평선까지 걸을 수 있다면 나 그대 손 놓지 않을게 하늘에 수놓아진 별빛에',\n",
              " '따뜻한 그대 숨결을 느끼고 운명처럼 그대와 이대로만 이렇게 남아 숨 쉴 수 있다면',\n",
              " '같은 하늘 아래 그대와 함께 있다는 걸 지워질까 두려운 거죠 푸른 바다 수평선까지',\n",
              " '걸을 수 있다면 나 그대 손 놓지 않을게 같은 하늘 아래 그대와 함께 있다는 걸',\n",
              " '지워질까 두려운 거죠 푸른 바다 수평선까지 걸을 수 있다면 나 그대 손 놓지 않을게']"
            ]
          },
          "execution_count": 38,
          "metadata": {},
          "output_type": "execute_result"
        }
      ],
      "source": [
        "df['lyrics_sep'][0]"
      ]
    },
    {
      "cell_type": "code",
      "execution_count": null,
      "id": "71dc5719",
      "metadata": {
        "id": "71dc5719"
      },
      "outputs": [],
      "source": [
        "df.drop('lyric_sep',axis=1,inplace=True)"
      ]
    },
    {
      "cell_type": "code",
      "execution_count": null,
      "id": "9d4e2005",
      "metadata": {
        "id": "9d4e2005",
        "outputId": "8d12b4d2-e559-4362-a685-4eb7cbac1c58"
      },
      "outputs": [
        {
          "data": {
            "text/html": [
              "<div>\n",
              "<style scoped>\n",
              "    .dataframe tbody tr th:only-of-type {\n",
              "        vertical-align: middle;\n",
              "    }\n",
              "\n",
              "    .dataframe tbody tr th {\n",
              "        vertical-align: top;\n",
              "    }\n",
              "\n",
              "    .dataframe thead th {\n",
              "        text-align: right;\n",
              "    }\n",
              "</style>\n",
              "<table border=\"1\" class=\"dataframe\">\n",
              "  <thead>\n",
              "    <tr style=\"text-align: right;\">\n",
              "      <th></th>\n",
              "      <th>lyrics</th>\n",
              "      <th>artist</th>\n",
              "      <th>age</th>\n",
              "      <th>lyrics_sep</th>\n",
              "    </tr>\n",
              "  </thead>\n",
              "  <tbody>\n",
              "    <tr>\n",
              "      <th>0</th>\n",
              "      <td>나 아직 꿈을 꾸죠\\n밤하늘 희미한 달빛처럼\\n눈부셨던 기억 속에 그 사람\\n어렴풋...</td>\n",
              "      <td>이선희</td>\n",
              "      <td>80</td>\n",
              "      <td>[나 아직 꿈을 꾸죠 밤하늘 희미한 달빛처럼 눈부셨던 기억 속에 그 사람 어렴풋이 ...</td>\n",
              "    </tr>\n",
              "    <tr>\n",
              "      <th>1</th>\n",
              "      <td>약속해요 이 순간이 다 지나고\\n다시 보게 되는 그날\\n모든 걸 버리고 그대 곁에 ...</td>\n",
              "      <td>이선희</td>\n",
              "      <td>80</td>\n",
              "      <td>[약속해요 이 순간이 다 지나고 다시 보게 되는 그날 모든 걸 버리고 그대 곁에 서...</td>\n",
              "    </tr>\n",
              "    <tr>\n",
              "      <th>2</th>\n",
              "      <td>소슬한 바람이 마음에 불어\\n나비인 듯 날아 마음이 닿는 곳\\n맘 같지 않은 세상\\...</td>\n",
              "      <td>이선희</td>\n",
              "      <td>80</td>\n",
              "      <td>[소슬한 바람이 마음에 불어 나비인 듯 날아 마음이 닿는 곳 맘 같지 않은 세상 그...</td>\n",
              "    </tr>\n",
              "    <tr>\n",
              "      <th>3</th>\n",
              "      <td>그렇게 대단한 운명까진\\n바란적 없다 생각했는데\\n그대 하나 떠나간 내 하룬 이제\\...</td>\n",
              "      <td>이선희</td>\n",
              "      <td>80</td>\n",
              "      <td>[그렇게 대단한 운명까진 바란적 없다 생각했는데 그대 하나 떠나간 내 하룬 이제 운...</td>\n",
              "    </tr>\n",
              "    <tr>\n",
              "      <th>4</th>\n",
              "      <td>이렇게 함께하는 편안한\\n서로의 곁 연애할 때처럼 설레요\\n밤이 내린 하늘엔 별이 ...</td>\n",
              "      <td>이선희</td>\n",
              "      <td>80</td>\n",
              "      <td>[이렇게 함께하는 편안한 서로의 곁 연애할 때처럼 설레요 밤이 내린 하늘엔 별이 가...</td>\n",
              "    </tr>\n",
              "  </tbody>\n",
              "</table>\n",
              "</div>"
            ],
            "text/plain": [
              "                                              lyrics artist  age  \\\n",
              "0  나 아직 꿈을 꾸죠\\n밤하늘 희미한 달빛처럼\\n눈부셨던 기억 속에 그 사람\\n어렴풋...    이선희   80   \n",
              "1  약속해요 이 순간이 다 지나고\\n다시 보게 되는 그날\\n모든 걸 버리고 그대 곁에 ...    이선희   80   \n",
              "2  소슬한 바람이 마음에 불어\\n나비인 듯 날아 마음이 닿는 곳\\n맘 같지 않은 세상\\...    이선희   80   \n",
              "3  그렇게 대단한 운명까진\\n바란적 없다 생각했는데\\n그대 하나 떠나간 내 하룬 이제\\...    이선희   80   \n",
              "4  이렇게 함께하는 편안한\\n서로의 곁 연애할 때처럼 설레요\\n밤이 내린 하늘엔 별이 ...    이선희   80   \n",
              "\n",
              "                                          lyrics_sep  \n",
              "0  [나 아직 꿈을 꾸죠 밤하늘 희미한 달빛처럼 눈부셨던 기억 속에 그 사람 어렴풋이 ...  \n",
              "1  [약속해요 이 순간이 다 지나고 다시 보게 되는 그날 모든 걸 버리고 그대 곁에 서...  \n",
              "2  [소슬한 바람이 마음에 불어 나비인 듯 날아 마음이 닿는 곳 맘 같지 않은 세상 그...  \n",
              "3  [그렇게 대단한 운명까진 바란적 없다 생각했는데 그대 하나 떠나간 내 하룬 이제 운...  \n",
              "4  [이렇게 함께하는 편안한 서로의 곁 연애할 때처럼 설레요 밤이 내린 하늘엔 별이 가...  "
            ]
          },
          "execution_count": 40,
          "metadata": {},
          "output_type": "execute_result"
        }
      ],
      "source": [
        "df.head()"
      ]
    },
    {
      "cell_type": "code",
      "execution_count": null,
      "id": "9411c0aa",
      "metadata": {
        "id": "9411c0aa"
      },
      "outputs": [],
      "source": [
        "def lyrics_extractor(lyrics):\n",
        "    nouns = []\n",
        "    mecab = Mecab()\n",
        "    for sentence in lyrics.lyrics_sep:\n",
        "        l_sent = []\n",
        "        for i in sentence:\n",
        "            sents = mecab.pos(i)\n",
        "            result = []\n",
        "            for word in sents:\n",
        "                if word[1][0] == 'NNG' or word[1][0] == 'V':\n",
        "                #if word[1][0] == 'V':\n",
        "                    result.append(word[0])\n",
        "            if len(result)>0:\n",
        "                l_sent.append(result)\n",
        "        nouns.append(l_sent)\n",
        "    return nouns"
      ]
    },
    {
      "cell_type": "code",
      "execution_count": null,
      "id": "9a7c520b",
      "metadata": {
        "id": "9a7c520b"
      },
      "outputs": [],
      "source": [
        "def drop_if_eng(df):\n",
        "    df['one_string'] = df['lyrics_sep'].str.join(\" \")\n",
        "    mecab=Mecab()\n",
        "    for i in df.one_string:\n",
        "        sents = mecab.pos(i)\n",
        "        n = 0\n",
        "        result = []\n",
        "        for word in sents:\n",
        "            if word[1] == 'SL':\n",
        "                n+=1\n",
        "        if n>(len(sents)//2):\n",
        "            df=df[df.one_string != i]\n",
        "            print(len(df))\n",
        "    return df"
      ]
    },
    {
      "cell_type": "code",
      "execution_count": null,
      "id": "163f5b7d",
      "metadata": {
        "id": "163f5b7d",
        "outputId": "f6e473e3-f164-445d-8d7f-2639b7ebb7be"
      },
      "outputs": [
        {
          "data": {
            "text/plain": [
              "1342"
            ]
          },
          "execution_count": 43,
          "metadata": {},
          "output_type": "execute_result"
        }
      ],
      "source": [
        "len(df)"
      ]
    },
    {
      "cell_type": "code",
      "execution_count": null,
      "id": "a493e677",
      "metadata": {
        "id": "a493e677",
        "outputId": "073d96b2-ffa0-4699-e4ab-017c680c8e15"
      },
      "outputs": [
        {
          "name": "stdout",
          "output_type": "stream",
          "text": [
            "1340\n",
            "1338\n",
            "1336\n",
            "1334\n",
            "1332\n",
            "1330\n",
            "1328\n",
            "1326\n",
            "1324\n",
            "1322\n",
            "1320\n",
            "1318\n",
            "1316\n",
            "1314\n",
            "1312\n",
            "1310\n",
            "1308\n",
            "1306\n",
            "1304\n",
            "1302\n",
            "1301\n",
            "1300\n",
            "1299\n",
            "1298\n",
            "1297\n",
            "1296\n",
            "1295\n",
            "1294\n",
            "1293\n",
            "1292\n",
            "1291\n",
            "1290\n",
            "1289\n",
            "1288\n",
            "1287\n",
            "1286\n",
            "1285\n",
            "1284\n",
            "1283\n",
            "1282\n",
            "1281\n",
            "1280\n",
            "1279\n",
            "1278\n",
            "1277\n",
            "1276\n",
            "1275\n",
            "1274\n",
            "1273\n",
            "1272\n",
            "1271\n",
            "1270\n",
            "1269\n",
            "1268\n",
            "1267\n",
            "1266\n",
            "1265\n",
            "1264\n",
            "1263\n",
            "1262\n",
            "1261\n",
            "1260\n",
            "1259\n",
            "1258\n",
            "1257\n",
            "1256\n",
            "1255\n",
            "1254\n",
            "1253\n",
            "1252\n",
            "1251\n",
            "1250\n",
            "1249\n",
            "1248\n",
            "1247\n",
            "1246\n",
            "1246\n",
            "1246\n",
            "1246\n",
            "1246\n",
            "1246\n",
            "1246\n",
            "1246\n",
            "1246\n",
            "1246\n",
            "1246\n",
            "1246\n",
            "1246\n",
            "1246\n",
            "1246\n",
            "1246\n",
            "1246\n",
            "1246\n",
            "1246\n",
            "1246\n",
            "1246\n",
            "1245\n",
            "1244\n",
            "1243\n",
            "1242\n",
            "1241\n",
            "1240\n",
            "1239\n",
            "1238\n",
            "1237\n",
            "1236\n",
            "1235\n",
            "1234\n",
            "1233\n",
            "1232\n",
            "1231\n",
            "1230\n",
            "1229\n",
            "1228\n",
            "1227\n",
            "1226\n",
            "1225\n",
            "1224\n",
            "1223\n",
            "1222\n",
            "1221\n",
            "1220\n",
            "1219\n",
            "1218\n",
            "1217\n",
            "1216\n",
            "1215\n",
            "1214\n",
            "1213\n",
            "1212\n",
            "1211\n",
            "1210\n",
            "1209\n",
            "1208\n",
            "1207\n",
            "1206\n",
            "1205\n",
            "1204\n",
            "1203\n",
            "1202\n",
            "1201\n",
            "1200\n",
            "1199\n",
            "1198\n",
            "1197\n",
            "1196\n",
            "1195\n",
            "1194\n",
            "1193\n",
            "1192\n",
            "1191\n",
            "1190\n",
            "1189\n",
            "1188\n",
            "1187\n",
            "1186\n",
            "1185\n",
            "1184\n",
            "1183\n",
            "1182\n",
            "1181\n",
            "1180\n",
            "1179\n",
            "1178\n",
            "1177\n",
            "1176\n",
            "1175\n",
            "1174\n",
            "1173\n",
            "1172\n",
            "1171\n",
            "1170\n",
            "1169\n",
            "1168\n",
            "1167\n",
            "1166\n",
            "1165\n",
            "1164\n",
            "1163\n",
            "1162\n",
            "1161\n",
            "1160\n",
            "1159\n",
            "1158\n",
            "1157\n",
            "1156\n",
            "1155\n",
            "1154\n",
            "1153\n",
            "1152\n",
            "1151\n",
            "1150\n",
            "1149\n",
            "1148\n",
            "1147\n",
            "1146\n",
            "1145\n",
            "1144\n",
            "1143\n",
            "1142\n",
            "1141\n",
            "1140\n",
            "1139\n",
            "1138\n",
            "1137\n",
            "1136\n",
            "1135\n",
            "1134\n",
            "1133\n",
            "1132\n",
            "1131\n",
            "1130\n",
            "1129\n",
            "1128\n",
            "1127\n",
            "1126\n",
            "1125\n",
            "1124\n",
            "1123\n",
            "1122\n",
            "1121\n",
            "1120\n",
            "1119\n",
            "1118\n",
            "1117\n",
            "1116\n",
            "1115\n",
            "1114\n",
            "1113\n",
            "1112\n",
            "1111\n",
            "1110\n",
            "1109\n",
            "1108\n",
            "1107\n",
            "1106\n",
            "1105\n",
            "1104\n",
            "1103\n",
            "1102\n",
            "1101\n",
            "1100\n",
            "1099\n",
            "1098\n",
            "1097\n",
            "1096\n",
            "1095\n",
            "1094\n",
            "1093\n",
            "1092\n",
            "1091\n",
            "1090\n",
            "1089\n",
            "1088\n",
            "1087\n",
            "1086\n",
            "1085\n",
            "1084\n",
            "1083\n",
            "1082\n",
            "1081\n",
            "1080\n",
            "1079\n",
            "1078\n",
            "1077\n",
            "1076\n",
            "1075\n",
            "1074\n",
            "1073\n",
            "1072\n",
            "1071\n",
            "1070\n",
            "1069\n",
            "1068\n",
            "1067\n",
            "1066\n",
            "1065\n",
            "1064\n",
            "1063\n",
            "1062\n",
            "1061\n",
            "1060\n",
            "1059\n",
            "1058\n",
            "1057\n",
            "1056\n",
            "1055\n",
            "1054\n",
            "1053\n",
            "1052\n",
            "1051\n"
          ]
        }
      ],
      "source": [
        "df_saved = drop_if_eng(df)\n"
      ]
    },
    {
      "cell_type": "code",
      "execution_count": null,
      "id": "62c4773a",
      "metadata": {
        "id": "62c4773a",
        "outputId": "5c70d556-e313-40c3-b207-734185e9c0f4"
      },
      "outputs": [
        {
          "data": {
            "text/html": [
              "<div>\n",
              "<style scoped>\n",
              "    .dataframe tbody tr th:only-of-type {\n",
              "        vertical-align: middle;\n",
              "    }\n",
              "\n",
              "    .dataframe tbody tr th {\n",
              "        vertical-align: top;\n",
              "    }\n",
              "\n",
              "    .dataframe thead th {\n",
              "        text-align: right;\n",
              "    }\n",
              "</style>\n",
              "<table border=\"1\" class=\"dataframe\">\n",
              "  <thead>\n",
              "    <tr style=\"text-align: right;\">\n",
              "      <th></th>\n",
              "      <th>lyrics</th>\n",
              "      <th>artist</th>\n",
              "      <th>age</th>\n",
              "      <th>lyrics_sep</th>\n",
              "      <th>one_string</th>\n",
              "    </tr>\n",
              "  </thead>\n",
              "  <tbody>\n",
              "    <tr>\n",
              "      <th>0</th>\n",
              "      <td>나 아직 꿈을 꾸죠\\n밤하늘 희미한 달빛처럼\\n눈부셨던 기억 속에 그 사람\\n어렴풋...</td>\n",
              "      <td>이선희</td>\n",
              "      <td>80</td>\n",
              "      <td>[나 아직 꿈을 꾸죠 밤하늘 희미한 달빛처럼 눈부셨던 기억 속에 그 사람 어렴풋이 ...</td>\n",
              "      <td>나 아직 꿈을 꾸죠 밤하늘 희미한 달빛처럼 눈부셨던 기억 속에 그 사람 어렴풋이 생...</td>\n",
              "    </tr>\n",
              "    <tr>\n",
              "      <th>1</th>\n",
              "      <td>약속해요 이 순간이 다 지나고\\n다시 보게 되는 그날\\n모든 걸 버리고 그대 곁에 ...</td>\n",
              "      <td>이선희</td>\n",
              "      <td>80</td>\n",
              "      <td>[약속해요 이 순간이 다 지나고 다시 보게 되는 그날 모든 걸 버리고 그대 곁에 서...</td>\n",
              "      <td>약속해요 이 순간이 다 지나고 다시 보게 되는 그날 모든 걸 버리고 그대 곁에 서서...</td>\n",
              "    </tr>\n",
              "    <tr>\n",
              "      <th>2</th>\n",
              "      <td>소슬한 바람이 마음에 불어\\n나비인 듯 날아 마음이 닿는 곳\\n맘 같지 않은 세상\\...</td>\n",
              "      <td>이선희</td>\n",
              "      <td>80</td>\n",
              "      <td>[소슬한 바람이 마음에 불어 나비인 듯 날아 마음이 닿는 곳 맘 같지 않은 세상 그...</td>\n",
              "      <td>소슬한 바람이 마음에 불어 나비인 듯 날아 마음이 닿는 곳 맘 같지 않은 세상 그 ...</td>\n",
              "    </tr>\n",
              "    <tr>\n",
              "      <th>3</th>\n",
              "      <td>그렇게 대단한 운명까진\\n바란적 없다 생각했는데\\n그대 하나 떠나간 내 하룬 이제\\...</td>\n",
              "      <td>이선희</td>\n",
              "      <td>80</td>\n",
              "      <td>[그렇게 대단한 운명까진 바란적 없다 생각했는데 그대 하나 떠나간 내 하룬 이제 운...</td>\n",
              "      <td>그렇게 대단한 운명까진 바란적 없다 생각했는데 그대 하나 떠나간 내 하룬 이제 운명...</td>\n",
              "    </tr>\n",
              "    <tr>\n",
              "      <th>4</th>\n",
              "      <td>이렇게 함께하는 편안한\\n서로의 곁 연애할 때처럼 설레요\\n밤이 내린 하늘엔 별이 ...</td>\n",
              "      <td>이선희</td>\n",
              "      <td>80</td>\n",
              "      <td>[이렇게 함께하는 편안한 서로의 곁 연애할 때처럼 설레요 밤이 내린 하늘엔 별이 가...</td>\n",
              "      <td>이렇게 함께하는 편안한 서로의 곁 연애할 때처럼 설레요 밤이 내린 하늘엔 별이 가득...</td>\n",
              "    </tr>\n",
              "    <tr>\n",
              "      <th>...</th>\n",
              "      <td>...</td>\n",
              "      <td>...</td>\n",
              "      <td>...</td>\n",
              "      <td>...</td>\n",
              "      <td>...</td>\n",
              "    </tr>\n",
              "    <tr>\n",
              "      <th>1337</th>\n",
              "      <td>다가서면 멀어지는\\n저  꿈결처럼\\n그댄  어디로 가나요\\n내 맘속에 살고 있는 그...</td>\n",
              "      <td>청하</td>\n",
              "      <td>10</td>\n",
              "      <td>[다가서면 멀어지는 저  꿈결처럼 그댄  어디로 가나요 내 맘속에 살고 있는 그대란...</td>\n",
              "      <td>다가서면 멀어지는 저  꿈결처럼 그댄  어디로 가나요 내 맘속에 살고 있는 그대란 ...</td>\n",
              "    </tr>\n",
              "    <tr>\n",
              "      <th>1338</th>\n",
              "      <td>왠지 설레는 느낌\\nMake me feel so high\\n환한 미소가\\n(I re...</td>\n",
              "      <td>청하</td>\n",
              "      <td>10</td>\n",
              "      <td>[왠지 설레는 느낌 Make me feel so high 환한 미소가 (I real...</td>\n",
              "      <td>왠지 설레는 느낌 Make me feel so high 환한 미소가 (I reall...</td>\n",
              "    </tr>\n",
              "    <tr>\n",
              "      <th>1339</th>\n",
              "      <td>어디선가 넌 나를 지켜보겠지\\n지키지 못한 약속 모두 다 잊은 채\\n이제야 나는 제...</td>\n",
              "      <td>청하</td>\n",
              "      <td>10</td>\n",
              "      <td>[어디선가 넌 나를 지켜보겠지 지키지 못한 약속 모두 다 잊은 채 이제야 나는 제자...</td>\n",
              "      <td>어디선가 넌 나를 지켜보겠지 지키지 못한 약속 모두 다 잊은 채 이제야 나는 제자리...</td>\n",
              "    </tr>\n",
              "    <tr>\n",
              "      <th>1340</th>\n",
              "      <td>You can find me, right?\\nYou can find me, righ...</td>\n",
              "      <td>청하</td>\n",
              "      <td>10</td>\n",
              "      <td>[You can find me, right? You can find me, righ...</td>\n",
              "      <td>You can find me, right? You can find me, right...</td>\n",
              "    </tr>\n",
              "    <tr>\n",
              "      <th>1341</th>\n",
              "      <td>웃을 수 있을 때\\n많이 웃어둘걸\\n너를 떠올리면\\n아파지기 전에\\n\\n누릴 수 있...</td>\n",
              "      <td>청하</td>\n",
              "      <td>10</td>\n",
              "      <td>[웃을 수 있을 때 많이 웃어둘걸 너를 떠올리면 아파지기 전에,  누릴 수 있을 때...</td>\n",
              "      <td>웃을 수 있을 때 많이 웃어둘걸 너를 떠올리면 아파지기 전에  누릴 수 있을 때 맘...</td>\n",
              "    </tr>\n",
              "  </tbody>\n",
              "</table>\n",
              "<p>1051 rows × 5 columns</p>\n",
              "</div>"
            ],
            "text/plain": [
              "                                                 lyrics artist  age  \\\n",
              "0     나 아직 꿈을 꾸죠\\n밤하늘 희미한 달빛처럼\\n눈부셨던 기억 속에 그 사람\\n어렴풋...    이선희   80   \n",
              "1     약속해요 이 순간이 다 지나고\\n다시 보게 되는 그날\\n모든 걸 버리고 그대 곁에 ...    이선희   80   \n",
              "2     소슬한 바람이 마음에 불어\\n나비인 듯 날아 마음이 닿는 곳\\n맘 같지 않은 세상\\...    이선희   80   \n",
              "3     그렇게 대단한 운명까진\\n바란적 없다 생각했는데\\n그대 하나 떠나간 내 하룬 이제\\...    이선희   80   \n",
              "4     이렇게 함께하는 편안한\\n서로의 곁 연애할 때처럼 설레요\\n밤이 내린 하늘엔 별이 ...    이선희   80   \n",
              "...                                                 ...    ...  ...   \n",
              "1337  다가서면 멀어지는\\n저  꿈결처럼\\n그댄  어디로 가나요\\n내 맘속에 살고 있는 그...     청하   10   \n",
              "1338  왠지 설레는 느낌\\nMake me feel so high\\n환한 미소가\\n(I re...     청하   10   \n",
              "1339  어디선가 넌 나를 지켜보겠지\\n지키지 못한 약속 모두 다 잊은 채\\n이제야 나는 제...     청하   10   \n",
              "1340  You can find me, right?\\nYou can find me, righ...     청하   10   \n",
              "1341  웃을 수 있을 때\\n많이 웃어둘걸\\n너를 떠올리면\\n아파지기 전에\\n\\n누릴 수 있...     청하   10   \n",
              "\n",
              "                                             lyrics_sep  \\\n",
              "0     [나 아직 꿈을 꾸죠 밤하늘 희미한 달빛처럼 눈부셨던 기억 속에 그 사람 어렴풋이 ...   \n",
              "1     [약속해요 이 순간이 다 지나고 다시 보게 되는 그날 모든 걸 버리고 그대 곁에 서...   \n",
              "2     [소슬한 바람이 마음에 불어 나비인 듯 날아 마음이 닿는 곳 맘 같지 않은 세상 그...   \n",
              "3     [그렇게 대단한 운명까진 바란적 없다 생각했는데 그대 하나 떠나간 내 하룬 이제 운...   \n",
              "4     [이렇게 함께하는 편안한 서로의 곁 연애할 때처럼 설레요 밤이 내린 하늘엔 별이 가...   \n",
              "...                                                 ...   \n",
              "1337  [다가서면 멀어지는 저  꿈결처럼 그댄  어디로 가나요 내 맘속에 살고 있는 그대란...   \n",
              "1338  [왠지 설레는 느낌 Make me feel so high 환한 미소가 (I real...   \n",
              "1339  [어디선가 넌 나를 지켜보겠지 지키지 못한 약속 모두 다 잊은 채 이제야 나는 제자...   \n",
              "1340  [You can find me, right? You can find me, righ...   \n",
              "1341  [웃을 수 있을 때 많이 웃어둘걸 너를 떠올리면 아파지기 전에,  누릴 수 있을 때...   \n",
              "\n",
              "                                             one_string  \n",
              "0     나 아직 꿈을 꾸죠 밤하늘 희미한 달빛처럼 눈부셨던 기억 속에 그 사람 어렴풋이 생...  \n",
              "1     약속해요 이 순간이 다 지나고 다시 보게 되는 그날 모든 걸 버리고 그대 곁에 서서...  \n",
              "2     소슬한 바람이 마음에 불어 나비인 듯 날아 마음이 닿는 곳 맘 같지 않은 세상 그 ...  \n",
              "3     그렇게 대단한 운명까진 바란적 없다 생각했는데 그대 하나 떠나간 내 하룬 이제 운명...  \n",
              "4     이렇게 함께하는 편안한 서로의 곁 연애할 때처럼 설레요 밤이 내린 하늘엔 별이 가득...  \n",
              "...                                                 ...  \n",
              "1337  다가서면 멀어지는 저  꿈결처럼 그댄  어디로 가나요 내 맘속에 살고 있는 그대란 ...  \n",
              "1338  왠지 설레는 느낌 Make me feel so high 환한 미소가 (I reall...  \n",
              "1339  어디선가 넌 나를 지켜보겠지 지키지 못한 약속 모두 다 잊은 채 이제야 나는 제자리...  \n",
              "1340  You can find me, right? You can find me, right...  \n",
              "1341  웃을 수 있을 때 많이 웃어둘걸 너를 떠올리면 아파지기 전에  누릴 수 있을 때 맘...  \n",
              "\n",
              "[1051 rows x 5 columns]"
            ]
          },
          "execution_count": 45,
          "metadata": {},
          "output_type": "execute_result"
        }
      ],
      "source": [
        "df_saved"
      ]
    },
    {
      "cell_type": "code",
      "execution_count": null,
      "id": "77b35144",
      "metadata": {
        "id": "77b35144"
      },
      "outputs": [],
      "source": [
        "df_saved_morphs = lyrics_extractor(df_saved)"
      ]
    },
    {
      "cell_type": "code",
      "execution_count": null,
      "id": "24a33515",
      "metadata": {
        "id": "24a33515"
      },
      "outputs": [],
      "source": [
        "df_saved['morphs'] = df_saved_morphs"
      ]
    },
    {
      "cell_type": "code",
      "execution_count": null,
      "id": "80567ea9",
      "metadata": {
        "id": "80567ea9",
        "outputId": "6a8bdbcd-ef91-4b04-8dac-154c834bd9ff"
      },
      "outputs": [
        {
          "data": {
            "text/plain": [
              "[['꾸', '눈부셨', '네요'],\n",
              " ['흩날리', '느끼', '스쳐', '지나간', '짧'],\n",
              " ['인', '같', '있', '지워', '질까', '두려운', '죠'],\n",
              " ['푸른', '걸', '있', '놓', '않', '수놓', '진'],\n",
              " ['느끼', '남', '쉴', '있'],\n",
              " ['같', '있', '지워', '질까', '두려운', '죠', '푸른'],\n",
              " ['걸', '있', '놓', '않', '같', '있'],\n",
              " ['지워', '질까', '두려운', '죠', '푸른', '걸', '있', '놓', '않']]"
            ]
          },
          "execution_count": 48,
          "metadata": {},
          "output_type": "execute_result"
        }
      ],
      "source": [
        "df_saved['morphs'][0]"
      ]
    },
    {
      "cell_type": "code",
      "execution_count": null,
      "id": "c1bb7f66",
      "metadata": {
        "id": "c1bb7f66",
        "outputId": "fc6f3ad7-25fb-4770-ab2c-c497ae88abd4"
      },
      "outputs": [
        {
          "data": {
            "text/html": [
              "<div>\n",
              "<style scoped>\n",
              "    .dataframe tbody tr th:only-of-type {\n",
              "        vertical-align: middle;\n",
              "    }\n",
              "\n",
              "    .dataframe tbody tr th {\n",
              "        vertical-align: top;\n",
              "    }\n",
              "\n",
              "    .dataframe thead th {\n",
              "        text-align: right;\n",
              "    }\n",
              "</style>\n",
              "<table border=\"1\" class=\"dataframe\">\n",
              "  <thead>\n",
              "    <tr style=\"text-align: right;\">\n",
              "      <th></th>\n",
              "      <th>lyrics</th>\n",
              "      <th>artist</th>\n",
              "      <th>age</th>\n",
              "      <th>lyrics_sep</th>\n",
              "      <th>one_string</th>\n",
              "      <th>morphs</th>\n",
              "    </tr>\n",
              "  </thead>\n",
              "  <tbody>\n",
              "    <tr>\n",
              "      <th>0</th>\n",
              "      <td>나 아직 꿈을 꾸죠\\n밤하늘 희미한 달빛처럼\\n눈부셨던 기억 속에 그 사람\\n어렴풋...</td>\n",
              "      <td>이선희</td>\n",
              "      <td>80</td>\n",
              "      <td>[나 아직 꿈을 꾸죠 밤하늘 희미한 달빛처럼 눈부셨던 기억 속에 그 사람 어렴풋이 ...</td>\n",
              "      <td>나 아직 꿈을 꾸죠 밤하늘 희미한 달빛처럼 눈부셨던 기억 속에 그 사람 어렴풋이 생...</td>\n",
              "      <td>[[꾸, 눈부셨, 네요], [흩날리, 느끼, 스쳐, 지나간, 짧], [인, 같, 있...</td>\n",
              "    </tr>\n",
              "    <tr>\n",
              "      <th>1</th>\n",
              "      <td>약속해요 이 순간이 다 지나고\\n다시 보게 되는 그날\\n모든 걸 버리고 그대 곁에 ...</td>\n",
              "      <td>이선희</td>\n",
              "      <td>80</td>\n",
              "      <td>[약속해요 이 순간이 다 지나고 다시 보게 되는 그날 모든 걸 버리고 그대 곁에 서...</td>\n",
              "      <td>약속해요 이 순간이 다 지나고 다시 보게 되는 그날 모든 걸 버리고 그대 곁에 서서...</td>\n",
              "      <td>[[지나, 보, 되, 버리, 서, 남, 가리], [이, 하, 없, 아름다운, 올, ...</td>\n",
              "    </tr>\n",
              "    <tr>\n",
              "      <th>2</th>\n",
              "      <td>소슬한 바람이 마음에 불어\\n나비인 듯 날아 마음이 닿는 곳\\n맘 같지 않은 세상\\...</td>\n",
              "      <td>이선희</td>\n",
              "      <td>80</td>\n",
              "      <td>[소슬한 바람이 마음에 불어 나비인 듯 날아 마음이 닿는 곳 맘 같지 않은 세상 그...</td>\n",
              "      <td>소슬한 바람이 마음에 불어 나비인 듯 날아 마음이 닿는 곳 맘 같지 않은 세상 그 ...</td>\n",
              "      <td>[[불, 인, 날, 닿, 같, 않, 알아줄, 없], [있], [멀, 있, 쓰였, 없...</td>\n",
              "    </tr>\n",
              "    <tr>\n",
              "      <th>3</th>\n",
              "      <td>그렇게 대단한 운명까진\\n바란적 없다 생각했는데\\n그대 하나 떠나간 내 하룬 이제\\...</td>\n",
              "      <td>이선희</td>\n",
              "      <td>80</td>\n",
              "      <td>[그렇게 대단한 운명까진 바란적 없다 생각했는데 그대 하나 떠나간 내 하룬 이제 운...</td>\n",
              "      <td>그렇게 대단한 운명까진 바란적 없다 생각했는데 그대 하나 떠나간 내 하룬 이제 운명...</td>\n",
              "      <td>[[바란, 없, 떠나간, 아님, 채울, 없], [많, 만나, 꾸, 알아보], [주,...</td>\n",
              "    </tr>\n",
              "    <tr>\n",
              "      <th>4</th>\n",
              "      <td>이렇게 함께하는 편안한\\n서로의 곁 연애할 때처럼 설레요\\n밤이 내린 하늘엔 별이 ...</td>\n",
              "      <td>이선희</td>\n",
              "      <td>80</td>\n",
              "      <td>[이렇게 함께하는 편안한 서로의 곁 연애할 때처럼 설레요 밤이 내린 하늘엔 별이 가...</td>\n",
              "      <td>이렇게 함께하는 편안한 서로의 곁 연애할 때처럼 설레요 밤이 내린 하늘엔 별이 가득...</td>\n",
              "      <td>[[하, 설레, 내린], [하, 맞, 아닌, 같, 이], [아프, 말, 많, 좋],...</td>\n",
              "    </tr>\n",
              "  </tbody>\n",
              "</table>\n",
              "</div>"
            ],
            "text/plain": [
              "                                              lyrics artist  age  \\\n",
              "0  나 아직 꿈을 꾸죠\\n밤하늘 희미한 달빛처럼\\n눈부셨던 기억 속에 그 사람\\n어렴풋...    이선희   80   \n",
              "1  약속해요 이 순간이 다 지나고\\n다시 보게 되는 그날\\n모든 걸 버리고 그대 곁에 ...    이선희   80   \n",
              "2  소슬한 바람이 마음에 불어\\n나비인 듯 날아 마음이 닿는 곳\\n맘 같지 않은 세상\\...    이선희   80   \n",
              "3  그렇게 대단한 운명까진\\n바란적 없다 생각했는데\\n그대 하나 떠나간 내 하룬 이제\\...    이선희   80   \n",
              "4  이렇게 함께하는 편안한\\n서로의 곁 연애할 때처럼 설레요\\n밤이 내린 하늘엔 별이 ...    이선희   80   \n",
              "\n",
              "                                          lyrics_sep  \\\n",
              "0  [나 아직 꿈을 꾸죠 밤하늘 희미한 달빛처럼 눈부셨던 기억 속에 그 사람 어렴풋이 ...   \n",
              "1  [약속해요 이 순간이 다 지나고 다시 보게 되는 그날 모든 걸 버리고 그대 곁에 서...   \n",
              "2  [소슬한 바람이 마음에 불어 나비인 듯 날아 마음이 닿는 곳 맘 같지 않은 세상 그...   \n",
              "3  [그렇게 대단한 운명까진 바란적 없다 생각했는데 그대 하나 떠나간 내 하룬 이제 운...   \n",
              "4  [이렇게 함께하는 편안한 서로의 곁 연애할 때처럼 설레요 밤이 내린 하늘엔 별이 가...   \n",
              "\n",
              "                                          one_string  \\\n",
              "0  나 아직 꿈을 꾸죠 밤하늘 희미한 달빛처럼 눈부셨던 기억 속에 그 사람 어렴풋이 생...   \n",
              "1  약속해요 이 순간이 다 지나고 다시 보게 되는 그날 모든 걸 버리고 그대 곁에 서서...   \n",
              "2  소슬한 바람이 마음에 불어 나비인 듯 날아 마음이 닿는 곳 맘 같지 않은 세상 그 ...   \n",
              "3  그렇게 대단한 운명까진 바란적 없다 생각했는데 그대 하나 떠나간 내 하룬 이제 운명...   \n",
              "4  이렇게 함께하는 편안한 서로의 곁 연애할 때처럼 설레요 밤이 내린 하늘엔 별이 가득...   \n",
              "\n",
              "                                              morphs  \n",
              "0  [[꾸, 눈부셨, 네요], [흩날리, 느끼, 스쳐, 지나간, 짧], [인, 같, 있...  \n",
              "1  [[지나, 보, 되, 버리, 서, 남, 가리], [이, 하, 없, 아름다운, 올, ...  \n",
              "2  [[불, 인, 날, 닿, 같, 않, 알아줄, 없], [있], [멀, 있, 쓰였, 없...  \n",
              "3  [[바란, 없, 떠나간, 아님, 채울, 없], [많, 만나, 꾸, 알아보], [주,...  \n",
              "4  [[하, 설레, 내린], [하, 맞, 아닌, 같, 이], [아프, 말, 많, 좋],...  "
            ]
          },
          "execution_count": 49,
          "metadata": {},
          "output_type": "execute_result"
        }
      ],
      "source": [
        "df_saved.head()"
      ]
    },
    {
      "cell_type": "code",
      "execution_count": null,
      "id": "3b836985",
      "metadata": {
        "id": "3b836985"
      },
      "outputs": [],
      "source": [
        "df_saved.to_csv('lyrics_v.tsv',index=False, sep='\\t')"
      ]
    },
    {
      "cell_type": "code",
      "execution_count": null,
      "id": "ed182835",
      "metadata": {
        "id": "ed182835"
      },
      "outputs": [],
      "source": [
        ""
      ]
    }
  ],
  "metadata": {
    "kernelspec": {
      "display_name": "Python 3",
      "language": "python",
      "name": "python3"
    },
    "language_info": {
      "codemirror_mode": {
        "name": "ipython",
        "version": 3
      },
      "file_extension": ".py",
      "mimetype": "text/x-python",
      "name": "python",
      "nbconvert_exporter": "python",
      "pygments_lexer": "ipython3",
      "version": "3.8.10"
    },
    "colab": {
      "name": "lyricsProcessing.ipynb",
      "provenance": []
    }
  },
  "nbformat": 4,
  "nbformat_minor": 5
}