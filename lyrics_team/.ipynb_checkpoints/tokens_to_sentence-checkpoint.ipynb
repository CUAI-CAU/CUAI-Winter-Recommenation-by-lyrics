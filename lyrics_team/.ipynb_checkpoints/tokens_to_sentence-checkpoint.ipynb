{
 "cells": [
  {
   "cell_type": "code",
   "execution_count": 1,
   "metadata": {},
   "outputs": [],
   "source": [
    "import pandas as pd"
   ]
  },
  {
   "cell_type": "code",
   "execution_count": 2,
   "metadata": {},
   "outputs": [
    {
     "name": "stdout",
     "output_type": "stream",
     "text": [
      "                                                    sent  sentiment\n",
      "0                            ['아내', '출산', '되', '신', '나']          0\n",
      "1      ['당뇨', '합병증', '때문', '먹', '할', '이', '열', '가지', ...          3\n",
      "2       ['고등학교', '올라오', '중학교', '때', '수업', '어려워져서', '당황']          1\n",
      "3      ['재취업', '돼서', '받', '된', '월급', '온', '가족', '외식',...          0\n",
      "4                            ['빚', '갚', '되', '안도감', '들']          0\n",
      "...                                                  ...        ...\n",
      "40874  ['사', '친구', '애완견', '데려왔', '대부분', '내', '돌보', '있...          3\n",
      "40875  ['지난주', '건강', '검진', '결과', '나왔', '정상', '이', '결과...          0\n",
      "40876  ['엄마', '내', '꿈', '인', '작가', '응원', '주', '했', '그...          5\n",
      "40877  ['좋', '운동', '시설', '경로', '우대', '운동', '수', '있', ...          0\n",
      "40878  ['친구', '관계', '힘들', '베푸', '만큼', '돌아오', '않', '것'...          3\n",
      "\n",
      "[40879 rows x 2 columns]\n"
     ]
    }
   ],
   "source": [
    "train_df = pd.read_csv(\"./train.tsv\", delimiter='\\t')\n",
    "print(train_df)"
   ]
  },
  {
   "cell_type": "code",
   "execution_count": 3,
   "metadata": {},
   "outputs": [],
   "source": [
    "tokens = train_df['sent'].to_list()"
   ]
  },
  {
   "cell_type": "code",
   "execution_count": 4,
   "metadata": {},
   "outputs": [
    {
     "name": "stdout",
     "output_type": "stream",
     "text": [
      "['아내', '출산', '되', '신', '나']\n"
     ]
    }
   ],
   "source": [
    "print(tokens[0])"
   ]
  },
  {
   "cell_type": "code",
   "execution_count": 5,
   "metadata": {},
   "outputs": [],
   "source": [
    "def tokens_to_sentence(tokens):\n",
    "  return ' '.join(tokens)"
   ]
  },
  {
   "cell_type": "code",
   "execution_count": null,
   "metadata": {},
   "outputs": [],
   "source": []
  }
 ],
 "metadata": {
  "interpreter": {
   "hash": "61897708caa7e4b2a52ecaae93bf34e3570919432929e8a1c20f11f704ae724f"
  },
  "kernelspec": {
   "display_name": "Python 3",
   "language": "python",
   "name": "python3"
  },
  "language_info": {
   "codemirror_mode": {
    "name": "ipython",
    "version": 3
   },
   "file_extension": ".py",
   "mimetype": "text/x-python",
   "name": "python",
   "nbconvert_exporter": "python",
   "pygments_lexer": "ipython3",
   "version": "3.7.10"
  }
 },
 "nbformat": 4,
 "nbformat_minor": 2
}
